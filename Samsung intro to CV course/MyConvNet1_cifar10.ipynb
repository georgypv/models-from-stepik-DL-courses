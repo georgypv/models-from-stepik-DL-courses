{
  "nbformat": 4,
  "nbformat_minor": 0,
  "metadata": {
    "colab": {
      "name": "MyConvNet1 cifar10.ipynb",
      "provenance": [],
      "collapsed_sections": []
    },
    "kernelspec": {
      "name": "python3",
      "display_name": "Python 3"
    },
    "widgets": {
      "application/vnd.jupyter.widget-state+json": {
        "0300f9ba7de44c99afe6a3d7824a59d8": {
          "model_module": "@jupyter-widgets/controls",
          "model_name": "HBoxModel",
          "state": {
            "_view_name": "HBoxView",
            "_dom_classes": [],
            "_model_name": "HBoxModel",
            "_view_module": "@jupyter-widgets/controls",
            "_model_module_version": "1.5.0",
            "_view_count": null,
            "_view_module_version": "1.5.0",
            "box_style": "",
            "layout": "IPY_MODEL_6fd55841588f4c6983e703deccf90521",
            "_model_module": "@jupyter-widgets/controls",
            "children": [
              "IPY_MODEL_9c6358b2fb3b4c23b24e4dbfa349716d",
              "IPY_MODEL_f2c896ad41c140c580fd799a3c12cf82"
            ]
          }
        },
        "6fd55841588f4c6983e703deccf90521": {
          "model_module": "@jupyter-widgets/base",
          "model_name": "LayoutModel",
          "state": {
            "_view_name": "LayoutView",
            "grid_template_rows": null,
            "right": null,
            "justify_content": null,
            "_view_module": "@jupyter-widgets/base",
            "overflow": null,
            "_model_module_version": "1.2.0",
            "_view_count": null,
            "flex_flow": null,
            "width": null,
            "min_width": null,
            "border": null,
            "align_items": null,
            "bottom": null,
            "_model_module": "@jupyter-widgets/base",
            "top": null,
            "grid_column": null,
            "overflow_y": null,
            "overflow_x": null,
            "grid_auto_flow": null,
            "grid_area": null,
            "grid_template_columns": null,
            "flex": null,
            "_model_name": "LayoutModel",
            "justify_items": null,
            "grid_row": null,
            "max_height": null,
            "align_content": null,
            "visibility": null,
            "align_self": null,
            "height": null,
            "min_height": null,
            "padding": null,
            "grid_auto_rows": null,
            "grid_gap": null,
            "max_width": null,
            "order": null,
            "_view_module_version": "1.2.0",
            "grid_template_areas": null,
            "object_position": null,
            "object_fit": null,
            "grid_auto_columns": null,
            "margin": null,
            "display": null,
            "left": null
          }
        },
        "9c6358b2fb3b4c23b24e4dbfa349716d": {
          "model_module": "@jupyter-widgets/controls",
          "model_name": "FloatProgressModel",
          "state": {
            "_view_name": "ProgressView",
            "style": "IPY_MODEL_6a3db365bb094c61ad716aa060fa16df",
            "_dom_classes": [],
            "description": "",
            "_model_name": "FloatProgressModel",
            "bar_style": "info",
            "max": 1,
            "_view_module": "@jupyter-widgets/controls",
            "_model_module_version": "1.5.0",
            "value": 1,
            "_view_count": null,
            "_view_module_version": "1.5.0",
            "orientation": "horizontal",
            "min": 0,
            "description_tooltip": null,
            "_model_module": "@jupyter-widgets/controls",
            "layout": "IPY_MODEL_60fa24a2f9a2469bbb95e8b4dd908520"
          }
        },
        "f2c896ad41c140c580fd799a3c12cf82": {
          "model_module": "@jupyter-widgets/controls",
          "model_name": "HTMLModel",
          "state": {
            "_view_name": "HTMLView",
            "style": "IPY_MODEL_81b249f294084a5db537fba6097199fe",
            "_dom_classes": [],
            "description": "",
            "_model_name": "HTMLModel",
            "placeholder": "​",
            "_view_module": "@jupyter-widgets/controls",
            "_model_module_version": "1.5.0",
            "value": " 170500096/? [00:20&lt;00:00, 43159772.14it/s]",
            "_view_count": null,
            "_view_module_version": "1.5.0",
            "description_tooltip": null,
            "_model_module": "@jupyter-widgets/controls",
            "layout": "IPY_MODEL_45b8618bf6b14bf8939a818639f84919"
          }
        },
        "6a3db365bb094c61ad716aa060fa16df": {
          "model_module": "@jupyter-widgets/controls",
          "model_name": "ProgressStyleModel",
          "state": {
            "_view_name": "StyleView",
            "_model_name": "ProgressStyleModel",
            "description_width": "initial",
            "_view_module": "@jupyter-widgets/base",
            "_model_module_version": "1.5.0",
            "_view_count": null,
            "_view_module_version": "1.2.0",
            "bar_color": null,
            "_model_module": "@jupyter-widgets/controls"
          }
        },
        "60fa24a2f9a2469bbb95e8b4dd908520": {
          "model_module": "@jupyter-widgets/base",
          "model_name": "LayoutModel",
          "state": {
            "_view_name": "LayoutView",
            "grid_template_rows": null,
            "right": null,
            "justify_content": null,
            "_view_module": "@jupyter-widgets/base",
            "overflow": null,
            "_model_module_version": "1.2.0",
            "_view_count": null,
            "flex_flow": null,
            "width": null,
            "min_width": null,
            "border": null,
            "align_items": null,
            "bottom": null,
            "_model_module": "@jupyter-widgets/base",
            "top": null,
            "grid_column": null,
            "overflow_y": null,
            "overflow_x": null,
            "grid_auto_flow": null,
            "grid_area": null,
            "grid_template_columns": null,
            "flex": null,
            "_model_name": "LayoutModel",
            "justify_items": null,
            "grid_row": null,
            "max_height": null,
            "align_content": null,
            "visibility": null,
            "align_self": null,
            "height": null,
            "min_height": null,
            "padding": null,
            "grid_auto_rows": null,
            "grid_gap": null,
            "max_width": null,
            "order": null,
            "_view_module_version": "1.2.0",
            "grid_template_areas": null,
            "object_position": null,
            "object_fit": null,
            "grid_auto_columns": null,
            "margin": null,
            "display": null,
            "left": null
          }
        },
        "81b249f294084a5db537fba6097199fe": {
          "model_module": "@jupyter-widgets/controls",
          "model_name": "DescriptionStyleModel",
          "state": {
            "_view_name": "StyleView",
            "_model_name": "DescriptionStyleModel",
            "description_width": "",
            "_view_module": "@jupyter-widgets/base",
            "_model_module_version": "1.5.0",
            "_view_count": null,
            "_view_module_version": "1.2.0",
            "_model_module": "@jupyter-widgets/controls"
          }
        },
        "45b8618bf6b14bf8939a818639f84919": {
          "model_module": "@jupyter-widgets/base",
          "model_name": "LayoutModel",
          "state": {
            "_view_name": "LayoutView",
            "grid_template_rows": null,
            "right": null,
            "justify_content": null,
            "_view_module": "@jupyter-widgets/base",
            "overflow": null,
            "_model_module_version": "1.2.0",
            "_view_count": null,
            "flex_flow": null,
            "width": null,
            "min_width": null,
            "border": null,
            "align_items": null,
            "bottom": null,
            "_model_module": "@jupyter-widgets/base",
            "top": null,
            "grid_column": null,
            "overflow_y": null,
            "overflow_x": null,
            "grid_auto_flow": null,
            "grid_area": null,
            "grid_template_columns": null,
            "flex": null,
            "_model_name": "LayoutModel",
            "justify_items": null,
            "grid_row": null,
            "max_height": null,
            "align_content": null,
            "visibility": null,
            "align_self": null,
            "height": null,
            "min_height": null,
            "padding": null,
            "grid_auto_rows": null,
            "grid_gap": null,
            "max_width": null,
            "order": null,
            "_view_module_version": "1.2.0",
            "grid_template_areas": null,
            "object_position": null,
            "object_fit": null,
            "grid_auto_columns": null,
            "margin": null,
            "display": null,
            "left": null
          }
        }
      }
    }
  },
  "cells": [
    {
      "cell_type": "code",
      "metadata": {
        "id": "AwfR72ajSk8x",
        "outputId": "f2616157-fbf5-4bb0-85dc-1c32f59cc00f",
        "colab": {
          "base_uri": "https://localhost:8080/",
          "height": 99,
          "referenced_widgets": [
            "0300f9ba7de44c99afe6a3d7824a59d8",
            "6fd55841588f4c6983e703deccf90521",
            "9c6358b2fb3b4c23b24e4dbfa349716d",
            "f2c896ad41c140c580fd799a3c12cf82",
            "6a3db365bb094c61ad716aa060fa16df",
            "60fa24a2f9a2469bbb95e8b4dd908520",
            "81b249f294084a5db537fba6097199fe",
            "45b8618bf6b14bf8939a818639f84919"
          ]
        }
      },
      "source": [
        "import torch\n",
        "import random\n",
        "import numpy as np\n",
        "\n",
        "random.seed(0)\n",
        "np.random.seed(0)\n",
        "torch.manual_seed(0)\n",
        "torch.cuda.manual_seed(0)\n",
        "torch.backends.cudnn.deterministic = True\n",
        "from torch import nn\n",
        "from torchvision import datasets\n",
        "import matplotlib.pyplot as plt\n",
        "import time\n",
        "\n",
        "\n",
        "cifar_train = datasets.CIFAR10('./', download=True, train=True)\n",
        "cifar_test = datasets.CIFAR10('./', download=True, train=False)"
      ],
      "execution_count": 1,
      "outputs": [
        {
          "output_type": "stream",
          "text": [
            "Downloading https://www.cs.toronto.edu/~kriz/cifar-10-python.tar.gz to ./cifar-10-python.tar.gz\n"
          ],
          "name": "stdout"
        },
        {
          "output_type": "display_data",
          "data": {
            "application/vnd.jupyter.widget-view+json": {
              "model_id": "0300f9ba7de44c99afe6a3d7824a59d8",
              "version_minor": 0,
              "version_major": 2
            },
            "text/plain": [
              "HBox(children=(FloatProgress(value=1.0, bar_style='info', max=1.0), HTML(value='')))"
            ]
          },
          "metadata": {
            "tags": []
          }
        },
        {
          "output_type": "stream",
          "text": [
            "Extracting ./cifar-10-python.tar.gz to ./\n",
            "Files already downloaded and verified\n"
          ],
          "name": "stdout"
        }
      ]
    },
    {
      "cell_type": "code",
      "metadata": {
        "id": "eUilneR3cAwS"
      },
      "source": [
        "class SimpleTimer:\n",
        "\n",
        "  def __init__(self):\n",
        "    self.start_time_ = None\n",
        "\n",
        "  def start(self):\n",
        "\n",
        "    if self.start_time_ is not None:\n",
        "      raise Exception('Таймер уже запущен')  \n",
        "    self.start_time_ = time.perf_counter()\n",
        "  \n",
        "  def stop(self):\n",
        "\n",
        "    if self.start_time_ is None:\n",
        "      raise Exception('Таймер не запущен')\n",
        "    elapsed_sec = time.perf_counter() - self.start_time_\n",
        "\n",
        "    print(f'Прошло {int(elapsed_sec // 60)} мин. {int(elapsed_sec % 60)} сек.')\n",
        "\n"
      ],
      "execution_count": 29,
      "outputs": []
    },
    {
      "cell_type": "code",
      "metadata": {
        "id": "cgpBYhFgTbIR"
      },
      "source": [
        "X_train, y_train = torch.FloatTensor(cifar_train.data), torch.LongTensor(cifar_train.targets)\n",
        "X_test, y_test = torch.FloatTensor(cifar_test.data), torch.LongTensor(cifar_test.targets)\n",
        "\n",
        "X_train /= 255.\n",
        "X_test /= 255.\n",
        "\n",
        "X_train = X_train.permute(0,3,1,2)\n",
        "X_test = X_test.permute(0,3,1,2)"
      ],
      "execution_count": 3,
      "outputs": []
    },
    {
      "cell_type": "code",
      "metadata": {
        "id": "gStDi4u6TP20"
      },
      "source": [
        "partition = {'train':[]}\n",
        "labels = {}\n",
        "\n",
        "for idx, p in enumerate(X_train):\n",
        "\n",
        "  partition['train'].append(idx)\n",
        "  labels[idx] = y_train[idx]\n",
        "\n",
        "class MyDataset(torch.utils.data.Dataset):\n",
        "  def __init__(self, list_IDs, labels):\n",
        "    self.list_IDs = list_IDs\n",
        "    self.labels = labels\n",
        "\n",
        "  def __len__(self):\n",
        "    return len(self.list_IDs)\n",
        "\n",
        "  def __getitem__(self, idx):\n",
        "    ID = self.list_IDs[idx]\n",
        "    \n",
        "    X = X_train[ID] #загружаем данные - в другом варианте мы могли бы загружать их с диска\n",
        "    y = self.labels[ID]\n",
        "    \n",
        "    return X, y\n",
        "\n",
        "\n",
        "params = {'batch_size':100,\n",
        "          'shuffle':True, \n",
        "          'num_workers':4}\n",
        "\n",
        "train_iter = torch.utils.data.DataLoader(MyDataset(partition['train'], labels), **params)"
      ],
      "execution_count": 4,
      "outputs": []
    },
    {
      "cell_type": "code",
      "metadata": {
        "id": "cpIKb6esUUZH",
        "outputId": "95e40797-7053-4cff-965f-049c01dd7e23",
        "colab": {
          "base_uri": "https://localhost:8080/"
        }
      },
      "source": [
        "X_train[0].shape"
      ],
      "execution_count": 6,
      "outputs": [
        {
          "output_type": "execute_result",
          "data": {
            "text/plain": [
              "torch.Size([3, 32, 32])"
            ]
          },
          "metadata": {
            "tags": []
          },
          "execution_count": 6
        }
      ]
    },
    {
      "cell_type": "code",
      "metadata": {
        "id": "v8wOTnePTsRl"
      },
      "source": [
        "class MyConvNet(nn.Module):\n",
        "  def __init__(self):\n",
        "    super(MyConvNet, self).__init__()\n",
        "    # (3,32,32)\n",
        "    self.bn0 = nn.BatchNorm2d(num_features=3)\n",
        "    self.conv1 = nn.Conv2d(in_channels=3, out_channels=8, kernel_size=3, padding=1)\n",
        "    #(8, 32, 32)\n",
        "    self.act1 = nn.ReLU()\n",
        "    self.bn1 = nn.BatchNorm2d(8)\n",
        "    self.pool1 = nn.MaxPool2d(kernel_size=2, stride=2)\n",
        "    #(8, 16, 16)\n",
        "\n",
        "    self.conv2 = nn.Conv2d(in_channels=8, out_channels=16, kernel_size=3, padding=1)\n",
        "    #(16,16,16)\n",
        "    self.act2 = nn.ReLU()\n",
        "    self.bn2 = nn.BatchNorm2d(16)\n",
        "    self.pool2 = nn.MaxPool2d(2,2)\n",
        "    #(16,8,8)\n",
        "\n",
        "    self.conv3 = nn.Conv2d(16, 32, kernel_size=3, padding=1)\n",
        "    #(32,8,8)\n",
        "    self. act3 = nn.ReLU()\n",
        "    self.bn3 = nn.BatchNorm2d(32)\n",
        "    self.pool3 = nn.MaxPool2d(2,2)\n",
        "    #(32,4,4)\n",
        "\n",
        "    self.fc1 = nn.Linear(in_features=32*4*4, out_features=128)\n",
        "    self.act4 = nn.ReLU()\n",
        "    self.bn4 = nn.BatchNorm1d(128)\n",
        "\n",
        "    self.fc2 = nn.Linear(in_features=128, out_features=64)\n",
        "    self.act5= nn.ReLU()\n",
        "    self.bn5 = nn.BatchNorm1d(64)\n",
        "\n",
        "    self.fc3 = nn.Linear(in_features=64, out_features=10)\n",
        "\n",
        "  def forward(self, x):\n",
        "    x = self.bn0(x)\n",
        "    x = self.act1(self.conv1(x))\n",
        "    x = self.bn1(x)\n",
        "    x = self.pool1(x)\n",
        "\n",
        "    x = self.act2(self.conv2(x))\n",
        "    x = self.bn2(x)\n",
        "    x = self.pool2(x)\n",
        "\n",
        "    x = self.act3(self.conv3(x))\n",
        "    x = self.bn3(x)\n",
        "    x = self.pool3(x)\n",
        "\n",
        "    x = x.view(x.size(0), x.size(1)*x.size(2)*x.size(3))\n",
        "\n",
        "    x = self.act4(self.fc1(x))\n",
        "    x = self.bn4(x)\n",
        "\n",
        "    x= self.act5(self.fc2(x))\n",
        "    x = self.bn5(x)\n",
        "\n",
        "    x = self.fc3(x)\n",
        "\n",
        "    return x\n",
        "    \n"
      ],
      "execution_count": 18,
      "outputs": []
    },
    {
      "cell_type": "code",
      "metadata": {
        "id": "eaAIkSxsaT0N"
      },
      "source": [
        "def train_nn(net, dataloader, X_test, y_test, epochs=40):\n",
        "  \n",
        "  timer = SimpleTimer()\n",
        "  timer.start()\n",
        "\n",
        "  device = torch.device('cuda:0' if torch.cuda.is_available() else 'cpu')\n",
        "  net = net.to(device)\n",
        "  criterion = nn.CrossEntropyLoss()\n",
        "  optimizer = torch.optim.Adam(params=net.parameters())\n",
        "\n",
        "  X_test = X_test.to(device)\n",
        "  y_test = y_test.to(device)\n",
        "\n",
        "  test_loss = []\n",
        "  test_accuracy = []\n",
        "\n",
        "  for epoch in range(epochs):\n",
        "    for train_batch, train_label in dataloader:\n",
        "      optimizer.zero_grad()\n",
        "      net.train()\n",
        "      train_batch, train_label = train_batch.to(device), train_label.to(device)\n",
        "\n",
        "      preds = net.forward(train_batch)\n",
        "      loss = criterion(preds, train_label)\n",
        "      loss.backward()\n",
        "      optimizer.step()\n",
        "\n",
        "    net.eval()\n",
        "    test_preds = net.forward(X_test)\n",
        "    t_loss = criterion(test_preds, y_test)\n",
        "    t_accuracy = (test_preds.argmax(dim=1) == y_test).float().mean()\n",
        "\n",
        "    test_loss.append(t_loss.data.cpu())\n",
        "    test_accuracy.append(t_accuracy.data.cpu())\n",
        "\n",
        "    if epoch % 5 ==0:\n",
        "      print(f'Epoch: {epoch}, accuracy: {t_accuracy}')\n",
        "      print('***')\n",
        "\n",
        "\n",
        "  del net\n",
        "  timer.stop()\n",
        "  return  test_accuracy, test_loss\n"
      ],
      "execution_count": 32,
      "outputs": []
    },
    {
      "cell_type": "code",
      "metadata": {
        "id": "I352KAR6eay5",
        "outputId": "2ae8be8a-4653-4cf4-811d-5759580e8d3c",
        "colab": {
          "base_uri": "https://localhost:8080/"
        }
      },
      "source": [
        "test_accuracy, test_loss = train_nn(MyConvNet(), train_iter, X_test, y_test, epochs=40)"
      ],
      "execution_count": 33,
      "outputs": [
        {
          "output_type": "stream",
          "text": [
            "Epoch: 0, accuracy: 0.6133000254631042\n",
            "***\n",
            "Epoch: 5, accuracy: 0.6959999799728394\n",
            "***\n",
            "Epoch: 10, accuracy: 0.6984999775886536\n",
            "***\n",
            "Epoch: 15, accuracy: 0.6840000152587891\n",
            "***\n",
            "Epoch: 20, accuracy: 0.6809999942779541\n",
            "***\n",
            "Epoch: 25, accuracy: 0.6794999837875366\n",
            "***\n",
            "Epoch: 30, accuracy: 0.6759999990463257\n",
            "***\n",
            "Epoch: 35, accuracy: 0.6703000068664551\n",
            "***\n",
            "Прошло 26 мин. 33 сек.\n"
          ],
          "name": "stdout"
        }
      ]
    },
    {
      "cell_type": "code",
      "metadata": {
        "id": "ShociUbWgOCM",
        "outputId": "91813ee1-88b5-4945-fff5-713533f6689a",
        "colab": {
          "base_uri": "https://localhost:8080/",
          "height": 282
        }
      },
      "source": [
        "plt.plot(test_accuracy)"
      ],
      "execution_count": 34,
      "outputs": [
        {
          "output_type": "execute_result",
          "data": {
            "text/plain": [
              "[<matplotlib.lines.Line2D at 0x7f8e07e17c88>]"
            ]
          },
          "metadata": {
            "tags": []
          },
          "execution_count": 34
        },
        {
          "output_type": "display_data",
          "data": {
            "image/png": "[encoded data removed]",
            "text/plain": [
              "<Figure size 432x288 with 1 Axes>"
            ]
          },
          "metadata": {
            "tags": [],
            "needs_background": "light"
          }
        }
      ]
    },
    {
      "cell_type": "code",
      "metadata": {
        "id": "HjupRp6GgR-M",
        "outputId": "be625ae7-ff6a-4ee1-b666-1eac656b98a7",
        "colab": {
          "base_uri": "https://localhost:8080/",
          "height": 282
        }
      },
      "source": [
        "plt.plot(test_loss)"
      ],
      "execution_count": 35,
      "outputs": [
        {
          "output_type": "execute_result",
          "data": {
            "text/plain": [
              "[<matplotlib.lines.Line2D at 0x7f8e07ee4b00>]"
            ]
          },
          "metadata": {
            "tags": []
          },
          "execution_count": 35
        },
        {
          "output_type": "display_data",
          "data": {
            "image/png": "[encoded data removed]",
            "text/plain": [
              "<Figure size 432x288 with 1 Axes>"
            ]
          },
          "metadata": {
            "tags": [],
            "needs_background": "light"
          }
        }
      ]
    },
    {
      "cell_type": "code",
      "metadata": {
        "id": "fmV_NcWRgUIB"
      },
      "source": [
        ""
      ],
      "execution_count": null,
      "outputs": []
    }
  ]
}