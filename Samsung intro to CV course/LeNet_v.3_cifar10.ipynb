{
  "nbformat": 4,
  "nbformat_minor": 0,
  "metadata": {
    "colab": {
      "name": "lenet cifar10.ipynb",
      "provenance": [],
      "collapsed_sections": []
    },
    "kernelspec": {
      "name": "python3",
      "display_name": "Python 3"
    },
    "widgets": {
      "application/vnd.jupyter.widget-state+json": {
        "15bbb527ca8c4bbcba861795b65625dd": {
          "model_module": "@jupyter-widgets/controls",
          "model_name": "HBoxModel",
          "state": {
            "_view_name": "HBoxView",
            "_dom_classes": [],
            "_model_name": "HBoxModel",
            "_view_module": "@jupyter-widgets/controls",
            "_model_module_version": "1.5.0",
            "_view_count": null,
            "_view_module_version": "1.5.0",
            "box_style": "",
            "layout": "IPY_MODEL_1a4d4d1fa17244b1a96b54fd31a3c05e",
            "_model_module": "@jupyter-widgets/controls",
            "children": [
              "IPY_MODEL_368c8462664149b2b1443bec918efba3",
              "IPY_MODEL_cf5c16edefb049928bb7bac0f23ce796"
            ]
          }
        },
        "1a4d4d1fa17244b1a96b54fd31a3c05e": {
          "model_module": "@jupyter-widgets/base",
          "model_name": "LayoutModel",
          "state": {
            "_view_name": "LayoutView",
            "grid_template_rows": null,
            "right": null,
            "justify_content": null,
            "_view_module": "@jupyter-widgets/base",
            "overflow": null,
            "_model_module_version": "1.2.0",
            "_view_count": null,
            "flex_flow": null,
            "width": null,
            "min_width": null,
            "border": null,
            "align_items": null,
            "bottom": null,
            "_model_module": "@jupyter-widgets/base",
            "top": null,
            "grid_column": null,
            "overflow_y": null,
            "overflow_x": null,
            "grid_auto_flow": null,
            "grid_area": null,
            "grid_template_columns": null,
            "flex": null,
            "_model_name": "LayoutModel",
            "justify_items": null,
            "grid_row": null,
            "max_height": null,
            "align_content": null,
            "visibility": null,
            "align_self": null,
            "height": null,
            "min_height": null,
            "padding": null,
            "grid_auto_rows": null,
            "grid_gap": null,
            "max_width": null,
            "order": null,
            "_view_module_version": "1.2.0",
            "grid_template_areas": null,
            "object_position": null,
            "object_fit": null,
            "grid_auto_columns": null,
            "margin": null,
            "display": null,
            "left": null
          }
        },
        "368c8462664149b2b1443bec918efba3": {
          "model_module": "@jupyter-widgets/controls",
          "model_name": "FloatProgressModel",
          "state": {
            "_view_name": "ProgressView",
            "style": "IPY_MODEL_c40be61ebd4e4fafb5785d7c30021567",
            "_dom_classes": [],
            "description": "",
            "_model_name": "FloatProgressModel",
            "bar_style": "success",
            "max": 1,
            "_view_module": "@jupyter-widgets/controls",
            "_model_module_version": "1.5.0",
            "value": 1,
            "_view_count": null,
            "_view_module_version": "1.5.0",
            "orientation": "horizontal",
            "min": 0,
            "description_tooltip": null,
            "_model_module": "@jupyter-widgets/controls",
            "layout": "IPY_MODEL_c88cca3834be49f8b06bb256bcb37288"
          }
        },
        "cf5c16edefb049928bb7bac0f23ce796": {
          "model_module": "@jupyter-widgets/controls",
          "model_name": "HTMLModel",
          "state": {
            "_view_name": "HTMLView",
            "style": "IPY_MODEL_dc6ba879c56b41ac8b477ecfaa8cd51f",
            "_dom_classes": [],
            "description": "",
            "_model_name": "HTMLModel",
            "placeholder": "​",
            "_view_module": "@jupyter-widgets/controls",
            "_model_module_version": "1.5.0",
            "value": " 170500096/? [00:08&lt;00:00, 21031151.11it/s]",
            "_view_count": null,
            "_view_module_version": "1.5.0",
            "description_tooltip": null,
            "_model_module": "@jupyter-widgets/controls",
            "layout": "IPY_MODEL_9bf5430ce7654969a4124412d6ae9623"
          }
        },
        "c40be61ebd4e4fafb5785d7c30021567": {
          "model_module": "@jupyter-widgets/controls",
          "model_name": "ProgressStyleModel",
          "state": {
            "_view_name": "StyleView",
            "_model_name": "ProgressStyleModel",
            "description_width": "initial",
            "_view_module": "@jupyter-widgets/base",
            "_model_module_version": "1.5.0",
            "_view_count": null,
            "_view_module_version": "1.2.0",
            "bar_color": null,
            "_model_module": "@jupyter-widgets/controls"
          }
        },
        "c88cca3834be49f8b06bb256bcb37288": {
          "model_module": "@jupyter-widgets/base",
          "model_name": "LayoutModel",
          "state": {
            "_view_name": "LayoutView",
            "grid_template_rows": null,
            "right": null,
            "justify_content": null,
            "_view_module": "@jupyter-widgets/base",
            "overflow": null,
            "_model_module_version": "1.2.0",
            "_view_count": null,
            "flex_flow": null,
            "width": null,
            "min_width": null,
            "border": null,
            "align_items": null,
            "bottom": null,
            "_model_module": "@jupyter-widgets/base",
            "top": null,
            "grid_column": null,
            "overflow_y": null,
            "overflow_x": null,
            "grid_auto_flow": null,
            "grid_area": null,
            "grid_template_columns": null,
            "flex": null,
            "_model_name": "LayoutModel",
            "justify_items": null,
            "grid_row": null,
            "max_height": null,
            "align_content": null,
            "visibility": null,
            "align_self": null,
            "height": null,
            "min_height": null,
            "padding": null,
            "grid_auto_rows": null,
            "grid_gap": null,
            "max_width": null,
            "order": null,
            "_view_module_version": "1.2.0",
            "grid_template_areas": null,
            "object_position": null,
            "object_fit": null,
            "grid_auto_columns": null,
            "margin": null,
            "display": null,
            "left": null
          }
        },
        "dc6ba879c56b41ac8b477ecfaa8cd51f": {
          "model_module": "@jupyter-widgets/controls",
          "model_name": "DescriptionStyleModel",
          "state": {
            "_view_name": "StyleView",
            "_model_name": "DescriptionStyleModel",
            "description_width": "",
            "_view_module": "@jupyter-widgets/base",
            "_model_module_version": "1.5.0",
            "_view_count": null,
            "_view_module_version": "1.2.0",
            "_model_module": "@jupyter-widgets/controls"
          }
        },
        "9bf5430ce7654969a4124412d6ae9623": {
          "model_module": "@jupyter-widgets/base",
          "model_name": "LayoutModel",
          "state": {
            "_view_name": "LayoutView",
            "grid_template_rows": null,
            "right": null,
            "justify_content": null,
            "_view_module": "@jupyter-widgets/base",
            "overflow": null,
            "_model_module_version": "1.2.0",
            "_view_count": null,
            "flex_flow": null,
            "width": null,
            "min_width": null,
            "border": null,
            "align_items": null,
            "bottom": null,
            "_model_module": "@jupyter-widgets/base",
            "top": null,
            "grid_column": null,
            "overflow_y": null,
            "overflow_x": null,
            "grid_auto_flow": null,
            "grid_area": null,
            "grid_template_columns": null,
            "flex": null,
            "_model_name": "LayoutModel",
            "justify_items": null,
            "grid_row": null,
            "max_height": null,
            "align_content": null,
            "visibility": null,
            "align_self": null,
            "height": null,
            "min_height": null,
            "padding": null,
            "grid_auto_rows": null,
            "grid_gap": null,
            "max_width": null,
            "order": null,
            "_view_module_version": "1.2.0",
            "grid_template_areas": null,
            "object_position": null,
            "object_fit": null,
            "grid_auto_columns": null,
            "margin": null,
            "display": null,
            "left": null
          }
        }
      }
    }
  },
  "cells": [
    {
      "cell_type": "code",
      "metadata": {
        "id": "WxpOqmIOWuTA"
      },
      "source": [
        "import torch\n",
        "import random\n",
        "import numpy as np\n",
        "\n",
        "random.seed(0)\n",
        "np.random.seed(0)\n",
        "torch.manual_seed(0)\n",
        "torch.cuda.manual_seed(0)\n",
        "torch.backends.cudnn.deterministic = True\n",
        "from torch import nn\n",
        "from torchvision import datasets\n",
        "import matplotlib.pyplot as plt\n",
        "import time"
      ],
      "execution_count": 1,
      "outputs": []
    },
    {
      "cell_type": "code",
      "metadata": {
        "id": "BBJ2OwPEWytJ",
        "outputId": "b288e7f5-dde5-4b92-e887-3e6b95813505",
        "colab": {
          "base_uri": "https://localhost:8080/",
          "height": 99,
          "referenced_widgets": [
            "15bbb527ca8c4bbcba861795b65625dd",
            "1a4d4d1fa17244b1a96b54fd31a3c05e",
            "368c8462664149b2b1443bec918efba3",
            "cf5c16edefb049928bb7bac0f23ce796",
            "c40be61ebd4e4fafb5785d7c30021567",
            "c88cca3834be49f8b06bb256bcb37288",
            "dc6ba879c56b41ac8b477ecfaa8cd51f",
            "9bf5430ce7654969a4124412d6ae9623"
          ]
        }
      },
      "source": [
        "cifar_train = datasets.CIFAR10('./', download=True, train=True)\n",
        "cifar_test = datasets.CIFAR10('./', download=True, train=False)"
      ],
      "execution_count": 2,
      "outputs": [
        {
          "output_type": "stream",
          "text": [
            "Downloading https://www.cs.toronto.edu/~kriz/cifar-10-python.tar.gz to ./cifar-10-python.tar.gz\n"
          ],
          "name": "stdout"
        },
        {
          "output_type": "display_data",
          "data": {
            "application/vnd.jupyter.widget-view+json": {
              "model_id": "15bbb527ca8c4bbcba861795b65625dd",
              "version_minor": 0,
              "version_major": 2
            },
            "text/plain": [
              "HBox(children=(FloatProgress(value=1.0, bar_style='info', max=1.0), HTML(value='')))"
            ]
          },
          "metadata": {
            "tags": []
          }
        },
        {
          "output_type": "stream",
          "text": [
            "Extracting ./cifar-10-python.tar.gz to ./\n",
            "Files already downloaded and verified\n"
          ],
          "name": "stdout"
        }
      ]
    },
    {
      "cell_type": "code",
      "metadata": {
        "id": "vcBgDsp3XHtY"
      },
      "source": [
        "X_train, y_train = torch.FloatTensor(cifar_train.data), torch.LongTensor(cifar_train.targets)\n",
        "X_test, y_test = torch.FloatTensor(cifar_test.data), torch.LongTensor(cifar_test.targets)\n"
      ],
      "execution_count": 3,
      "outputs": []
    },
    {
      "cell_type": "code",
      "metadata": {
        "id": "jjPZSm7YXITA",
        "outputId": "f05358a2-2edb-408d-acca-049669fc7ba8",
        "colab": {
          "base_uri": "https://localhost:8080/",
          "height": 34
        }
      },
      "source": [
        "X_train.shape, y_train.shape"
      ],
      "execution_count": 4,
      "outputs": [
        {
          "output_type": "execute_result",
          "data": {
            "text/plain": [
              "(torch.Size([50000, 32, 32, 3]), torch.Size([50000]))"
            ]
          },
          "metadata": {
            "tags": []
          },
          "execution_count": 4
        }
      ]
    },
    {
      "cell_type": "code",
      "metadata": {
        "id": "xvzxpkUOX1Om"
      },
      "source": [
        "X_train /= 255.\n",
        "X_test /= 255."
      ],
      "execution_count": 5,
      "outputs": []
    },
    {
      "cell_type": "code",
      "metadata": {
        "id": "EKmtmrzfYAll",
        "outputId": "c59ea0ea-ebfe-45f1-93b3-41d640ea0491",
        "colab": {
          "base_uri": "https://localhost:8080/",
          "height": 283
        }
      },
      "source": [
        "plt.imshow(X_train[111], interpolation='bicubic')\n",
        "print(cifar_train.classes[y_train[111]])"
      ],
      "execution_count": 7,
      "outputs": [
        {
          "output_type": "stream",
          "text": [
            "ship\n"
          ],
          "name": "stdout"
        },
        {
          "output_type": "display_data",
          "data": {
            "image/png": "[encoded data removed]",
            "text/plain": [
              "<Figure size 432x288 with 1 Axes>"
            ]
          },
          "metadata": {
            "tags": [],
            "needs_background": "light"
          }
        }
      ]
    },
    {
      "cell_type": "code",
      "metadata": {
        "id": "605TYmLIYsrq"
      },
      "source": [
        "X_train = X_train.permute(0,3,1,2)\n",
        "X_test = X_test.permute(0,3,1,2)"
      ],
      "execution_count": 8,
      "outputs": []
    },
    {
      "cell_type": "code",
      "metadata": {
        "id": "2cHkY9EqemkJ",
        "outputId": "39679e4a-60cd-45cf-feae-88c21364cffc",
        "colab": {
          "base_uri": "https://localhost:8080/",
          "height": 34
        }
      },
      "source": [
        "X_train.shape"
      ],
      "execution_count": 9,
      "outputs": [
        {
          "output_type": "execute_result",
          "data": {
            "text/plain": [
              "torch.Size([50000, 3, 32, 32])"
            ]
          },
          "metadata": {
            "tags": []
          },
          "execution_count": 9
        }
      ]
    },
    {
      "cell_type": "code",
      "metadata": {
        "id": "4VHvFheHeoYQ"
      },
      "source": [
        "class LeNet3(nn.Module):\n",
        "  def __init__(self, \n",
        "               activation = 'tanh', \n",
        "               pooling = 'avg',\n",
        "               conv_size=5,\n",
        "               batch_norm=False):\n",
        "    super(LeNet3, self).__init__()\n",
        "\n",
        "    self.activation = activation\n",
        "    self.pooling = pooling\n",
        "    self.conv_size = conv_size\n",
        "    self.batch_norm = batch_norm\n",
        "\n",
        "    if activation == 'tanh':\n",
        "      act_f = nn.Tanh()\n",
        "    elif activation == 'relu':\n",
        "      act_f = nn.ReLU()\n",
        "    else:\n",
        "      raise NotImplementedError\n",
        "\n",
        "    if pooling == 'avg':\n",
        "      pool_layer = nn.AvgPool2d(kernel_size=2, stride=2)\n",
        "    elif pooling =='max':\n",
        "      pool_layer = nn.MaxPool2d(kernel_size=2, stride=2)\n",
        "    else:\n",
        "      raise NotImplementedError\n",
        "\n",
        "    #input = (размер батча,3,32,32) изменилась размерность входного тензора\n",
        "    if conv_size == 5:\n",
        "      self.conv1 = nn.Conv2d(in_channels=3, out_channels=6, kernel_size=5, padding=0) \n",
        "      \n",
        "    elif conv_size==3:\n",
        "      self.conv1_1 = nn.Conv2d(in_channels=3, out_channels=6, kernel_size=3, padding=0)\n",
        "      self.conv1_2 = nn.Conv2d(in_channels=6, out_channels=6, kernel_size=3, padding=0)\n",
        "    else:\n",
        "      raise NotImplementedError\n",
        "    #(размер батча,6,28,28)\n",
        "    self.act1 = act_f\n",
        "    self.bn1 = nn.BatchNorm2d(num_features=6)\n",
        "    self.pool1 = pool_layer\n",
        "    \n",
        "    #(размер батча,6,14,14)\n",
        "    if conv_size == 5:\n",
        "      self.conv2= nn.Conv2d(in_channels=6, out_channels=16, kernel_size=5, padding=0)\n",
        "    elif conv_size==3:\n",
        "      self.conv2_1 = nn.Conv2d(in_channels=6, out_channels=16, kernel_size=3, padding=0)\n",
        "      self.conv2_2 = nn.Conv2d(in_channels=16, out_channels=16, kernel_size=3, padding=0)\n",
        "    else:\n",
        "      raise NotImplementedError\n",
        "    #(размер батча,16,10,10)\n",
        "\n",
        "    self.act2 = act_f\n",
        "    self.bn2 = nn.BatchNorm2d(num_features=16)\n",
        "    self.pool2 = pool_layer\n",
        "    #(размер батча,16,5,5)\n",
        "\n",
        "\n",
        "    # #(размер батча,120,1,1)\n",
        "    self.fc1 = nn.Linear(in_features=16*5*5, out_features=120, bias=True)\n",
        "    self.act3 = act_f\n",
        "    self.fc2 = nn.Linear(in_features=120, out_features=84, bias=True)\n",
        "    self.act4=act_f\n",
        "    #(размер батча,84)\n",
        "    self.fc3 = nn.Linear(in_features=84, out_features=10)\n",
        "\n",
        "  def forward(self, x):\n",
        "    if self.conv_size==5:\n",
        "      x = self.conv1(x)\n",
        "    elif self.conv_size==3:\n",
        "      x = self.conv1_2(self.conv1_1(x))\n",
        "    x = self.act1(x) \n",
        "    if self.batch_norm:\n",
        "      x = self.bn1(x)\n",
        "    x = self.pool1(x)\n",
        "    \n",
        "    if self.conv_size==5:\n",
        "      x = self.conv2(x)\n",
        "    elif self.conv_size==3:\n",
        "      x = self.conv2_2(self.conv2_1(x))\n",
        "    x = self.act2(x) \n",
        "    if self.batch_norm:\n",
        "      x = self.bn2(x)\n",
        "    x = self.pool2(x)\n",
        "\n",
        "    x = x.view(x.size(0), x.size(1)*x.size(2)*x.size(3))\n",
        "    x = self.fc1(x)\n",
        "    x = self.act3(x)\n",
        "    x = self.fc2(x)\n",
        "    x = self.act4(x)\n",
        "\n",
        "    return self.fc3(x)\n"
      ],
      "execution_count": 10,
      "outputs": []
    },
    {
      "cell_type": "code",
      "metadata": {
        "id": "tvSBpuRWf_aX",
        "outputId": "f056dcbd-984b-4d34-d184-0bf1326bd421",
        "colab": {
          "base_uri": "https://localhost:8080/",
          "height": 34
        }
      },
      "source": [
        "LeNet3().forward(X_train[:10]).shape"
      ],
      "execution_count": 11,
      "outputs": [
        {
          "output_type": "execute_result",
          "data": {
            "text/plain": [
              "torch.Size([10, 10])"
            ]
          },
          "metadata": {
            "tags": []
          },
          "execution_count": 11
        }
      ]
    },
    {
      "cell_type": "code",
      "metadata": {
        "id": "tWWIaMkigHvR"
      },
      "source": [
        "def train_nn(net, dataloader, X_test, y_test, epochs=40):\n",
        "  \n",
        "  start_time = time.perf_counter()\n",
        "  device = torch.device('cuda:0' if torch.cuda.is_available() else 'cpu')\n",
        "  net = net.to(device)\n",
        "  criterion = nn.CrossEntropyLoss()\n",
        "  optimizer = torch.optim.Adam(params=net.parameters())\n",
        "\n",
        "  X_test = X_test.to(device)\n",
        "  y_test = y_test.to(device)\n",
        "\n",
        "  test_loss = []\n",
        "  test_accuracy = []\n",
        "\n",
        "  for epoch in range(epochs):\n",
        "    for train_batch, train_label in dataloader:\n",
        "      optimizer.zero_grad()\n",
        "      net.train()\n",
        "      train_batch, train_label = train_batch.to(device), train_label.to(device)\n",
        "\n",
        "      preds = net.forward(train_batch)\n",
        "      loss = criterion(preds, train_label)\n",
        "      loss.backward()\n",
        "      optimizer.step()\n",
        "\n",
        "    net.eval()\n",
        "    test_preds = net.forward(X_test)\n",
        "    t_loss = criterion(test_preds, y_test)\n",
        "    t_accuracy = (test_preds.argmax(dim=1) == y_test).float().mean()\n",
        "\n",
        "    test_loss.append(t_loss.data.cpu())\n",
        "    test_accuracy.append(t_accuracy.data.cpu())\n",
        "\n",
        "    if epoch % 5 ==0:\n",
        "      print(f'Epoch: {epoch}, accuracy: {t_accuracy}')\n",
        "      print('***')\n",
        "\n",
        "\n",
        "  del net\n",
        "  end_time = time.perf_counter()\n",
        "  print(f'Выполнено за {(end_time-start_time)// 60} минут {(end_time-start_time) % 60 } секунд')\n",
        "  return  test_accuracy, test_loss\n",
        "\n",
        "\n",
        "\n"
      ],
      "execution_count": 13,
      "outputs": []
    },
    {
      "cell_type": "code",
      "metadata": {
        "id": "dgnOOcyXhs5p"
      },
      "source": [
        "partition = {'train':[]}\n",
        "labels = {}\n",
        "\n",
        "for idx, p in enumerate(X_train):\n",
        "\n",
        "  partition['train'].append(idx)\n",
        "  labels[idx] = y_train[idx]\n",
        "\n",
        "class MyDataset(torch.utils.data.Dataset):\n",
        "  def __init__(self, list_IDs, labels):\n",
        "    self.list_IDs = list_IDs\n",
        "    self.labels = labels\n",
        "\n",
        "  def __len__(self):\n",
        "    return len(self.list_IDs)\n",
        "\n",
        "  def __getitem__(self, idx):\n",
        "    ID = self.list_IDs[idx]\n",
        "    \n",
        "    X = X_train[ID] #загружаем данные - в другом варианте мы могли бы загружать их с диска\n",
        "    y = self.labels[ID]\n",
        "    \n",
        "    return X, y\n",
        "\n",
        "\n",
        "params = {'batch_size':100,\n",
        "          'shuffle':True, \n",
        "          'num_workers':4}\n",
        "\n",
        "train_iter = torch.utils.data.DataLoader(MyDataset(partition['train'], labels), **params)"
      ],
      "execution_count": 14,
      "outputs": []
    },
    {
      "cell_type": "code",
      "metadata": {
        "id": "ch4FyGr2h8Hk",
        "outputId": "a300c237-9884-495b-db2e-ee0fbe10699e",
        "colab": {
          "base_uri": "https://localhost:8080/",
          "height": 1000
        }
      },
      "source": [
        "accuracies = {}\n",
        "losses = {}\n",
        "\n",
        "accuracies['tanh'], losses['tanh'] = \\\n",
        "    train_nn(LeNet3(activation='tanh', conv_size=5),\n",
        "          train_iter, X_test, y_test)\n",
        "accuracies['relu'], losses['relu'] = \\\n",
        "    train_nn(LeNet3(activation='relu', conv_size=5),\n",
        "          train_iter, X_test, y_test)\n",
        "accuracies['relu_3'], losses['relu_3'] = \\\n",
        "    train_nn(LeNet3(activation='relu', conv_size=3),\n",
        "          train_iter, X_test, y_test)\n",
        "accuracies['relu_3_max_pool'], losses['relu_3_max_pool'] = \\\n",
        "    train_nn(LeNet3(activation='relu', conv_size=3, pooling='max'), \n",
        "          train_iter, X_test, y_test)\n",
        "accuracies['relu_3_max_pool_bn'], losses['relu_3_max_pool_bn'] = \\\n",
        "    train_nn(LeNet3(activation='relu', conv_size=3, pooling='max', batch_norm=True), \n",
        "          train_iter, X_test, y_test)"
      ],
      "execution_count": 15,
      "outputs": [
        {
          "output_type": "stream",
          "text": [
            "Epoch: 0, accuracy: 0.38659998774528503\n",
            "***\n",
            "Epoch: 5, accuracy: 0.5271999835968018\n",
            "***\n",
            "Epoch: 10, accuracy: 0.5526000261306763\n",
            "***\n",
            "Epoch: 15, accuracy: 0.557200014591217\n",
            "***\n",
            "Epoch: 20, accuracy: 0.5547999739646912\n",
            "***\n",
            "Epoch: 25, accuracy: 0.5534999966621399\n",
            "***\n",
            "Epoch: 30, accuracy: 0.5540000200271606\n",
            "***\n",
            "Epoch: 35, accuracy: 0.5475999712944031\n",
            "***\n",
            "Выполнено за 12.0 минут 9.177911676999997 секунд\n",
            "Epoch: 0, accuracy: 0.4147000014781952\n",
            "***\n",
            "Epoch: 5, accuracy: 0.526199996471405\n",
            "***\n",
            "Epoch: 10, accuracy: 0.5626000165939331\n",
            "***\n",
            "Epoch: 15, accuracy: 0.5960000157356262\n",
            "***\n",
            "Epoch: 20, accuracy: 0.5909000039100647\n",
            "***\n",
            "Epoch: 25, accuracy: 0.6011999845504761\n",
            "***\n",
            "Epoch: 30, accuracy: 0.6039999723434448\n",
            "***\n",
            "Epoch: 35, accuracy: 0.6003000140190125\n",
            "***\n",
            "Выполнено за 11.0 минут 18.349586383999963 секунд\n",
            "Epoch: 0, accuracy: 0.40700000524520874\n",
            "***\n",
            "Epoch: 5, accuracy: 0.5314000248908997\n",
            "***\n",
            "Epoch: 10, accuracy: 0.5728999972343445\n",
            "***\n",
            "Epoch: 15, accuracy: 0.5957000255584717\n",
            "***\n",
            "Epoch: 20, accuracy: 0.6029000282287598\n",
            "***\n",
            "Epoch: 25, accuracy: 0.6144000291824341\n",
            "***\n",
            "Epoch: 30, accuracy: 0.611299991607666\n",
            "***\n",
            "Epoch: 35, accuracy: 0.6092000007629395\n",
            "***\n",
            "Выполнено за 17.0 минут 46.88614721599993 секунд\n",
            "Epoch: 0, accuracy: 0.3871999979019165\n",
            "***\n",
            "Epoch: 5, accuracy: 0.5533000230789185\n",
            "***\n",
            "Epoch: 10, accuracy: 0.611299991607666\n",
            "***\n",
            "Epoch: 15, accuracy: 0.6333000063896179\n",
            "***\n",
            "Epoch: 20, accuracy: 0.6413999795913696\n",
            "***\n",
            "Epoch: 25, accuracy: 0.6453999876976013\n",
            "***\n",
            "Epoch: 30, accuracy: 0.6348000168800354\n",
            "***\n",
            "Epoch: 35, accuracy: 0.6395999789237976\n",
            "***\n",
            "Выполнено за 18.0 минут 2.360194024000066 секунд\n",
            "Epoch: 0, accuracy: 0.5425000190734863\n",
            "***\n",
            "Epoch: 5, accuracy: 0.6327000260353088\n",
            "***\n",
            "Epoch: 10, accuracy: 0.6327000260353088\n",
            "***\n",
            "Epoch: 15, accuracy: 0.6263999938964844\n",
            "***\n",
            "Epoch: 20, accuracy: 0.6218000054359436\n",
            "***\n",
            "Epoch: 25, accuracy: 0.6051999926567078\n",
            "***\n",
            "Epoch: 30, accuracy: 0.6037999987602234\n",
            "***\n",
            "Epoch: 35, accuracy: 0.6014999747276306\n",
            "***\n",
            "Выполнено за 20.0 минут 39.32744171499962 секунд\n"
          ],
          "name": "stdout"
        }
      ]
    },
    {
      "cell_type": "code",
      "metadata": {
        "id": "Ku-Vh_Snk8DT",
        "outputId": "f6fdea05-9b48-4365-90c4-2bdb1e255c7e",
        "colab": {
          "base_uri": "https://localhost:8080/",
          "height": 281
        }
      },
      "source": [
        "for experiment_id in accuracies.keys():\n",
        "    plt.plot(accuracies[experiment_id], label=experiment_id)\n",
        "plt.legend()\n",
        "plt.title('Validation Accuracy');"
      ],
      "execution_count": 16,
      "outputs": [
        {
          "output_type": "display_data",
          "data": {
            "image/png": "[encoded data removed]",
            "text/plain": [
              "<Figure size 432x288 with 1 Axes>"
            ]
          },
          "metadata": {
            "tags": [],
            "needs_background": "light"
          }
        }
      ]
    },
    {
      "cell_type": "code",
      "metadata": {
        "id": "_RFNto6wJTxY",
        "outputId": "067b6d9c-636d-4e02-b3e0-25ab26bbf73e",
        "colab": {
          "base_uri": "https://localhost:8080/",
          "height": 281
        }
      },
      "source": [
        "for experiment_id in losses.keys():\n",
        "    plt.plot(losses[experiment_id], label=experiment_id)\n",
        "plt.legend()\n",
        "plt.title('Validation Loss');"
      ],
      "execution_count": 17,
      "outputs": [
        {
          "output_type": "display_data",
          "data": {
            "image/png": "[encoded data removed]",
            "text/plain": [
              "<Figure size 432x288 with 1 Axes>"
            ]
          },
          "metadata": {
            "tags": [],
            "needs_background": "light"
          }
        }
      ]
    }
  ]
}