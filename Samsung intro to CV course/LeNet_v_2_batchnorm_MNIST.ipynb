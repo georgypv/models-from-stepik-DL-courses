{
  "nbformat": 4,
  "nbformat_minor": 0,
  "metadata": {
    "accelerator": "GPU",
    "colab": {
      "name": "LeNet v.2 batchnorm MNIST.ipynb",
      "provenance": [],
      "collapsed_sections": []
    },
    "kernelspec": {
      "display_name": "Python 3",
      "language": "python",
      "name": "python3"
    },
    "language_info": {
      "codemirror_mode": {
        "name": "ipython",
        "version": 3
      },
      "file_extension": ".py",
      "mimetype": "text/x-python",
      "name": "python",
      "nbconvert_exporter": "python",
      "pygments_lexer": "ipython3",
      "version": "3.6.8"
    },
    "widgets": {
      "application/vnd.jupyter.widget-state+json": {
        "c66b3abecdde4d10bf79a51f68a23772": {
          "model_module": "@jupyter-widgets/controls",
          "model_name": "HBoxModel",
          "state": {
            "_view_name": "HBoxView",
            "_dom_classes": [],
            "_model_name": "HBoxModel",
            "_view_module": "@jupyter-widgets/controls",
            "_model_module_version": "1.5.0",
            "_view_count": null,
            "_view_module_version": "1.5.0",
            "box_style": "",
            "layout": "IPY_MODEL_9bdbfe1d03f545bd87a97c4bba603abe",
            "_model_module": "@jupyter-widgets/controls",
            "children": [
              "IPY_MODEL_8f445aa586c44fbf9bcb10e6f28d8561",
              "IPY_MODEL_8b7229fe073c4a4dac925080b012a222"
            ]
          }
        },
        "9bdbfe1d03f545bd87a97c4bba603abe": {
          "model_module": "@jupyter-widgets/base",
          "model_name": "LayoutModel",
          "state": {
            "_view_name": "LayoutView",
            "grid_template_rows": null,
            "right": null,
            "justify_content": null,
            "_view_module": "@jupyter-widgets/base",
            "overflow": null,
            "_model_module_version": "1.2.0",
            "_view_count": null,
            "flex_flow": null,
            "width": null,
            "min_width": null,
            "border": null,
            "align_items": null,
            "bottom": null,
            "_model_module": "@jupyter-widgets/base",
            "top": null,
            "grid_column": null,
            "overflow_y": null,
            "overflow_x": null,
            "grid_auto_flow": null,
            "grid_area": null,
            "grid_template_columns": null,
            "flex": null,
            "_model_name": "LayoutModel",
            "justify_items": null,
            "grid_row": null,
            "max_height": null,
            "align_content": null,
            "visibility": null,
            "align_self": null,
            "height": null,
            "min_height": null,
            "padding": null,
            "grid_auto_rows": null,
            "grid_gap": null,
            "max_width": null,
            "order": null,
            "_view_module_version": "1.2.0",
            "grid_template_areas": null,
            "object_position": null,
            "object_fit": null,
            "grid_auto_columns": null,
            "margin": null,
            "display": null,
            "left": null
          }
        },
        "8f445aa586c44fbf9bcb10e6f28d8561": {
          "model_module": "@jupyter-widgets/controls",
          "model_name": "FloatProgressModel",
          "state": {
            "_view_name": "ProgressView",
            "style": "IPY_MODEL_17b26f3d4ed544d39df8763e50e40b3f",
            "_dom_classes": [],
            "description": "",
            "_model_name": "FloatProgressModel",
            "bar_style": "success",
            "max": 1,
            "_view_module": "@jupyter-widgets/controls",
            "_model_module_version": "1.5.0",
            "value": 1,
            "_view_count": null,
            "_view_module_version": "1.5.0",
            "orientation": "horizontal",
            "min": 0,
            "description_tooltip": null,
            "_model_module": "@jupyter-widgets/controls",
            "layout": "IPY_MODEL_8903a69db7dd4737b995452621223ea8"
          }
        },
        "8b7229fe073c4a4dac925080b012a222": {
          "model_module": "@jupyter-widgets/controls",
          "model_name": "HTMLModel",
          "state": {
            "_view_name": "HTMLView",
            "style": "IPY_MODEL_81ae769dcd9b419cb8d7c499fbba1bb6",
            "_dom_classes": [],
            "description": "",
            "_model_name": "HTMLModel",
            "placeholder": "​",
            "_view_module": "@jupyter-widgets/controls",
            "_model_module_version": "1.5.0",
            "value": " 9920512/? [00:03&lt;00:00, 3249424.41it/s]",
            "_view_count": null,
            "_view_module_version": "1.5.0",
            "description_tooltip": null,
            "_model_module": "@jupyter-widgets/controls",
            "layout": "IPY_MODEL_2122b872bc39431eab3dfd6cdaf62680"
          }
        },
        "17b26f3d4ed544d39df8763e50e40b3f": {
          "model_module": "@jupyter-widgets/controls",
          "model_name": "ProgressStyleModel",
          "state": {
            "_view_name": "StyleView",
            "_model_name": "ProgressStyleModel",
            "description_width": "initial",
            "_view_module": "@jupyter-widgets/base",
            "_model_module_version": "1.5.0",
            "_view_count": null,
            "_view_module_version": "1.2.0",
            "bar_color": null,
            "_model_module": "@jupyter-widgets/controls"
          }
        },
        "8903a69db7dd4737b995452621223ea8": {
          "model_module": "@jupyter-widgets/base",
          "model_name": "LayoutModel",
          "state": {
            "_view_name": "LayoutView",
            "grid_template_rows": null,
            "right": null,
            "justify_content": null,
            "_view_module": "@jupyter-widgets/base",
            "overflow": null,
            "_model_module_version": "1.2.0",
            "_view_count": null,
            "flex_flow": null,
            "width": null,
            "min_width": null,
            "border": null,
            "align_items": null,
            "bottom": null,
            "_model_module": "@jupyter-widgets/base",
            "top": null,
            "grid_column": null,
            "overflow_y": null,
            "overflow_x": null,
            "grid_auto_flow": null,
            "grid_area": null,
            "grid_template_columns": null,
            "flex": null,
            "_model_name": "LayoutModel",
            "justify_items": null,
            "grid_row": null,
            "max_height": null,
            "align_content": null,
            "visibility": null,
            "align_self": null,
            "height": null,
            "min_height": null,
            "padding": null,
            "grid_auto_rows": null,
            "grid_gap": null,
            "max_width": null,
            "order": null,
            "_view_module_version": "1.2.0",
            "grid_template_areas": null,
            "object_position": null,
            "object_fit": null,
            "grid_auto_columns": null,
            "margin": null,
            "display": null,
            "left": null
          }
        },
        "81ae769dcd9b419cb8d7c499fbba1bb6": {
          "model_module": "@jupyter-widgets/controls",
          "model_name": "DescriptionStyleModel",
          "state": {
            "_view_name": "StyleView",
            "_model_name": "DescriptionStyleModel",
            "description_width": "",
            "_view_module": "@jupyter-widgets/base",
            "_model_module_version": "1.5.0",
            "_view_count": null,
            "_view_module_version": "1.2.0",
            "_model_module": "@jupyter-widgets/controls"
          }
        },
        "2122b872bc39431eab3dfd6cdaf62680": {
          "model_module": "@jupyter-widgets/base",
          "model_name": "LayoutModel",
          "state": {
            "_view_name": "LayoutView",
            "grid_template_rows": null,
            "right": null,
            "justify_content": null,
            "_view_module": "@jupyter-widgets/base",
            "overflow": null,
            "_model_module_version": "1.2.0",
            "_view_count": null,
            "flex_flow": null,
            "width": null,
            "min_width": null,
            "border": null,
            "align_items": null,
            "bottom": null,
            "_model_module": "@jupyter-widgets/base",
            "top": null,
            "grid_column": null,
            "overflow_y": null,
            "overflow_x": null,
            "grid_auto_flow": null,
            "grid_area": null,
            "grid_template_columns": null,
            "flex": null,
            "_model_name": "LayoutModel",
            "justify_items": null,
            "grid_row": null,
            "max_height": null,
            "align_content": null,
            "visibility": null,
            "align_self": null,
            "height": null,
            "min_height": null,
            "padding": null,
            "grid_auto_rows": null,
            "grid_gap": null,
            "max_width": null,
            "order": null,
            "_view_module_version": "1.2.0",
            "grid_template_areas": null,
            "object_position": null,
            "object_fit": null,
            "grid_auto_columns": null,
            "margin": null,
            "display": null,
            "left": null
          }
        },
        "2faa2f25ac7943cb99769f6233af2ca9": {
          "model_module": "@jupyter-widgets/controls",
          "model_name": "HBoxModel",
          "state": {
            "_view_name": "HBoxView",
            "_dom_classes": [],
            "_model_name": "HBoxModel",
            "_view_module": "@jupyter-widgets/controls",
            "_model_module_version": "1.5.0",
            "_view_count": null,
            "_view_module_version": "1.5.0",
            "box_style": "",
            "layout": "IPY_MODEL_e55bdecffb6645ebadeba1f8a93f73cd",
            "_model_module": "@jupyter-widgets/controls",
            "children": [
              "IPY_MODEL_9f6419f4758a4b34b77d73447593d96f",
              "IPY_MODEL_935d8891cab349c785ff0ccc0c2ab924"
            ]
          }
        },
        "e55bdecffb6645ebadeba1f8a93f73cd": {
          "model_module": "@jupyter-widgets/base",
          "model_name": "LayoutModel",
          "state": {
            "_view_name": "LayoutView",
            "grid_template_rows": null,
            "right": null,
            "justify_content": null,
            "_view_module": "@jupyter-widgets/base",
            "overflow": null,
            "_model_module_version": "1.2.0",
            "_view_count": null,
            "flex_flow": null,
            "width": null,
            "min_width": null,
            "border": null,
            "align_items": null,
            "bottom": null,
            "_model_module": "@jupyter-widgets/base",
            "top": null,
            "grid_column": null,
            "overflow_y": null,
            "overflow_x": null,
            "grid_auto_flow": null,
            "grid_area": null,
            "grid_template_columns": null,
            "flex": null,
            "_model_name": "LayoutModel",
            "justify_items": null,
            "grid_row": null,
            "max_height": null,
            "align_content": null,
            "visibility": null,
            "align_self": null,
            "height": null,
            "min_height": null,
            "padding": null,
            "grid_auto_rows": null,
            "grid_gap": null,
            "max_width": null,
            "order": null,
            "_view_module_version": "1.2.0",
            "grid_template_areas": null,
            "object_position": null,
            "object_fit": null,
            "grid_auto_columns": null,
            "margin": null,
            "display": null,
            "left": null
          }
        },
        "9f6419f4758a4b34b77d73447593d96f": {
          "model_module": "@jupyter-widgets/controls",
          "model_name": "FloatProgressModel",
          "state": {
            "_view_name": "ProgressView",
            "style": "IPY_MODEL_68c3df6767534ddcaa6f89a5faef58f5",
            "_dom_classes": [],
            "description": "",
            "_model_name": "FloatProgressModel",
            "bar_style": "success",
            "max": 1,
            "_view_module": "@jupyter-widgets/controls",
            "_model_module_version": "1.5.0",
            "value": 1,
            "_view_count": null,
            "_view_module_version": "1.5.0",
            "orientation": "horizontal",
            "min": 0,
            "description_tooltip": null,
            "_model_module": "@jupyter-widgets/controls",
            "layout": "IPY_MODEL_881189686eed4507b9d2f1ee618d9419"
          }
        },
        "935d8891cab349c785ff0ccc0c2ab924": {
          "model_module": "@jupyter-widgets/controls",
          "model_name": "HTMLModel",
          "state": {
            "_view_name": "HTMLView",
            "style": "IPY_MODEL_7cfb3573111c43a38a60165560437676",
            "_dom_classes": [],
            "description": "",
            "_model_name": "HTMLModel",
            "placeholder": "​",
            "_view_module": "@jupyter-widgets/controls",
            "_model_module_version": "1.5.0",
            "value": " 32768/? [00:01&lt;00:00, 19966.65it/s]",
            "_view_count": null,
            "_view_module_version": "1.5.0",
            "description_tooltip": null,
            "_model_module": "@jupyter-widgets/controls",
            "layout": "IPY_MODEL_e3fe205c982547158b3a3a854baa48bd"
          }
        },
        "68c3df6767534ddcaa6f89a5faef58f5": {
          "model_module": "@jupyter-widgets/controls",
          "model_name": "ProgressStyleModel",
          "state": {
            "_view_name": "StyleView",
            "_model_name": "ProgressStyleModel",
            "description_width": "initial",
            "_view_module": "@jupyter-widgets/base",
            "_model_module_version": "1.5.0",
            "_view_count": null,
            "_view_module_version": "1.2.0",
            "bar_color": null,
            "_model_module": "@jupyter-widgets/controls"
          }
        },
        "881189686eed4507b9d2f1ee618d9419": {
          "model_module": "@jupyter-widgets/base",
          "model_name": "LayoutModel",
          "state": {
            "_view_name": "LayoutView",
            "grid_template_rows": null,
            "right": null,
            "justify_content": null,
            "_view_module": "@jupyter-widgets/base",
            "overflow": null,
            "_model_module_version": "1.2.0",
            "_view_count": null,
            "flex_flow": null,
            "width": null,
            "min_width": null,
            "border": null,
            "align_items": null,
            "bottom": null,
            "_model_module": "@jupyter-widgets/base",
            "top": null,
            "grid_column": null,
            "overflow_y": null,
            "overflow_x": null,
            "grid_auto_flow": null,
            "grid_area": null,
            "grid_template_columns": null,
            "flex": null,
            "_model_name": "LayoutModel",
            "justify_items": null,
            "grid_row": null,
            "max_height": null,
            "align_content": null,
            "visibility": null,
            "align_self": null,
            "height": null,
            "min_height": null,
            "padding": null,
            "grid_auto_rows": null,
            "grid_gap": null,
            "max_width": null,
            "order": null,
            "_view_module_version": "1.2.0",
            "grid_template_areas": null,
            "object_position": null,
            "object_fit": null,
            "grid_auto_columns": null,
            "margin": null,
            "display": null,
            "left": null
          }
        },
        "7cfb3573111c43a38a60165560437676": {
          "model_module": "@jupyter-widgets/controls",
          "model_name": "DescriptionStyleModel",
          "state": {
            "_view_name": "StyleView",
            "_model_name": "DescriptionStyleModel",
            "description_width": "",
            "_view_module": "@jupyter-widgets/base",
            "_model_module_version": "1.5.0",
            "_view_count": null,
            "_view_module_version": "1.2.0",
            "_model_module": "@jupyter-widgets/controls"
          }
        },
        "e3fe205c982547158b3a3a854baa48bd": {
          "model_module": "@jupyter-widgets/base",
          "model_name": "LayoutModel",
          "state": {
            "_view_name": "LayoutView",
            "grid_template_rows": null,
            "right": null,
            "justify_content": null,
            "_view_module": "@jupyter-widgets/base",
            "overflow": null,
            "_model_module_version": "1.2.0",
            "_view_count": null,
            "flex_flow": null,
            "width": null,
            "min_width": null,
            "border": null,
            "align_items": null,
            "bottom": null,
            "_model_module": "@jupyter-widgets/base",
            "top": null,
            "grid_column": null,
            "overflow_y": null,
            "overflow_x": null,
            "grid_auto_flow": null,
            "grid_area": null,
            "grid_template_columns": null,
            "flex": null,
            "_model_name": "LayoutModel",
            "justify_items": null,
            "grid_row": null,
            "max_height": null,
            "align_content": null,
            "visibility": null,
            "align_self": null,
            "height": null,
            "min_height": null,
            "padding": null,
            "grid_auto_rows": null,
            "grid_gap": null,
            "max_width": null,
            "order": null,
            "_view_module_version": "1.2.0",
            "grid_template_areas": null,
            "object_position": null,
            "object_fit": null,
            "grid_auto_columns": null,
            "margin": null,
            "display": null,
            "left": null
          }
        },
        "d5d1316ab509470f8d2aa69c7bf94bd6": {
          "model_module": "@jupyter-widgets/controls",
          "model_name": "HBoxModel",
          "state": {
            "_view_name": "HBoxView",
            "_dom_classes": [],
            "_model_name": "HBoxModel",
            "_view_module": "@jupyter-widgets/controls",
            "_model_module_version": "1.5.0",
            "_view_count": null,
            "_view_module_version": "1.5.0",
            "box_style": "",
            "layout": "IPY_MODEL_c7440cccf2de4782affbae7334a6140b",
            "_model_module": "@jupyter-widgets/controls",
            "children": [
              "IPY_MODEL_df4431bc7f7a451bb61700b044bcb9ee",
              "IPY_MODEL_605b80dd1c0e443bb652b918a72f5817"
            ]
          }
        },
        "c7440cccf2de4782affbae7334a6140b": {
          "model_module": "@jupyter-widgets/base",
          "model_name": "LayoutModel",
          "state": {
            "_view_name": "LayoutView",
            "grid_template_rows": null,
            "right": null,
            "justify_content": null,
            "_view_module": "@jupyter-widgets/base",
            "overflow": null,
            "_model_module_version": "1.2.0",
            "_view_count": null,
            "flex_flow": null,
            "width": null,
            "min_width": null,
            "border": null,
            "align_items": null,
            "bottom": null,
            "_model_module": "@jupyter-widgets/base",
            "top": null,
            "grid_column": null,
            "overflow_y": null,
            "overflow_x": null,
            "grid_auto_flow": null,
            "grid_area": null,
            "grid_template_columns": null,
            "flex": null,
            "_model_name": "LayoutModel",
            "justify_items": null,
            "grid_row": null,
            "max_height": null,
            "align_content": null,
            "visibility": null,
            "align_self": null,
            "height": null,
            "min_height": null,
            "padding": null,
            "grid_auto_rows": null,
            "grid_gap": null,
            "max_width": null,
            "order": null,
            "_view_module_version": "1.2.0",
            "grid_template_areas": null,
            "object_position": null,
            "object_fit": null,
            "grid_auto_columns": null,
            "margin": null,
            "display": null,
            "left": null
          }
        },
        "df4431bc7f7a451bb61700b044bcb9ee": {
          "model_module": "@jupyter-widgets/controls",
          "model_name": "FloatProgressModel",
          "state": {
            "_view_name": "ProgressView",
            "style": "IPY_MODEL_407e21b5e0974d299e5adc54885f82f1",
            "_dom_classes": [],
            "description": "",
            "_model_name": "FloatProgressModel",
            "bar_style": "success",
            "max": 1,
            "_view_module": "@jupyter-widgets/controls",
            "_model_module_version": "1.5.0",
            "value": 1,
            "_view_count": null,
            "_view_module_version": "1.5.0",
            "orientation": "horizontal",
            "min": 0,
            "description_tooltip": null,
            "_model_module": "@jupyter-widgets/controls",
            "layout": "IPY_MODEL_719c26bc429f4fde94ceae261b90ec5f"
          }
        },
        "605b80dd1c0e443bb652b918a72f5817": {
          "model_module": "@jupyter-widgets/controls",
          "model_name": "HTMLModel",
          "state": {
            "_view_name": "HTMLView",
            "style": "IPY_MODEL_6e8a22dc8e204e2bae47197f2bcd2aa9",
            "_dom_classes": [],
            "description": "",
            "_model_name": "HTMLModel",
            "placeholder": "​",
            "_view_module": "@jupyter-widgets/controls",
            "_model_module_version": "1.5.0",
            "value": " 1654784/? [00:01&lt;00:00, 1298584.84it/s]",
            "_view_count": null,
            "_view_module_version": "1.5.0",
            "description_tooltip": null,
            "_model_module": "@jupyter-widgets/controls",
            "layout": "IPY_MODEL_def83c9a92dd46bda8e3cdcf948f6e6a"
          }
        },
        "407e21b5e0974d299e5adc54885f82f1": {
          "model_module": "@jupyter-widgets/controls",
          "model_name": "ProgressStyleModel",
          "state": {
            "_view_name": "StyleView",
            "_model_name": "ProgressStyleModel",
            "description_width": "initial",
            "_view_module": "@jupyter-widgets/base",
            "_model_module_version": "1.5.0",
            "_view_count": null,
            "_view_module_version": "1.2.0",
            "bar_color": null,
            "_model_module": "@jupyter-widgets/controls"
          }
        },
        "719c26bc429f4fde94ceae261b90ec5f": {
          "model_module": "@jupyter-widgets/base",
          "model_name": "LayoutModel",
          "state": {
            "_view_name": "LayoutView",
            "grid_template_rows": null,
            "right": null,
            "justify_content": null,
            "_view_module": "@jupyter-widgets/base",
            "overflow": null,
            "_model_module_version": "1.2.0",
            "_view_count": null,
            "flex_flow": null,
            "width": null,
            "min_width": null,
            "border": null,
            "align_items": null,
            "bottom": null,
            "_model_module": "@jupyter-widgets/base",
            "top": null,
            "grid_column": null,
            "overflow_y": null,
            "overflow_x": null,
            "grid_auto_flow": null,
            "grid_area": null,
            "grid_template_columns": null,
            "flex": null,
            "_model_name": "LayoutModel",
            "justify_items": null,
            "grid_row": null,
            "max_height": null,
            "align_content": null,
            "visibility": null,
            "align_self": null,
            "height": null,
            "min_height": null,
            "padding": null,
            "grid_auto_rows": null,
            "grid_gap": null,
            "max_width": null,
            "order": null,
            "_view_module_version": "1.2.0",
            "grid_template_areas": null,
            "object_position": null,
            "object_fit": null,
            "grid_auto_columns": null,
            "margin": null,
            "display": null,
            "left": null
          }
        },
        "6e8a22dc8e204e2bae47197f2bcd2aa9": {
          "model_module": "@jupyter-widgets/controls",
          "model_name": "DescriptionStyleModel",
          "state": {
            "_view_name": "StyleView",
            "_model_name": "DescriptionStyleModel",
            "description_width": "",
            "_view_module": "@jupyter-widgets/base",
            "_model_module_version": "1.5.0",
            "_view_count": null,
            "_view_module_version": "1.2.0",
            "_model_module": "@jupyter-widgets/controls"
          }
        },
        "def83c9a92dd46bda8e3cdcf948f6e6a": {
          "model_module": "@jupyter-widgets/base",
          "model_name": "LayoutModel",
          "state": {
            "_view_name": "LayoutView",
            "grid_template_rows": null,
            "right": null,
            "justify_content": null,
            "_view_module": "@jupyter-widgets/base",
            "overflow": null,
            "_model_module_version": "1.2.0",
            "_view_count": null,
            "flex_flow": null,
            "width": null,
            "min_width": null,
            "border": null,
            "align_items": null,
            "bottom": null,
            "_model_module": "@jupyter-widgets/base",
            "top": null,
            "grid_column": null,
            "overflow_y": null,
            "overflow_x": null,
            "grid_auto_flow": null,
            "grid_area": null,
            "grid_template_columns": null,
            "flex": null,
            "_model_name": "LayoutModel",
            "justify_items": null,
            "grid_row": null,
            "max_height": null,
            "align_content": null,
            "visibility": null,
            "align_self": null,
            "height": null,
            "min_height": null,
            "padding": null,
            "grid_auto_rows": null,
            "grid_gap": null,
            "max_width": null,
            "order": null,
            "_view_module_version": "1.2.0",
            "grid_template_areas": null,
            "object_position": null,
            "object_fit": null,
            "grid_auto_columns": null,
            "margin": null,
            "display": null,
            "left": null
          }
        },
        "f61413c927644e9c9987bfecd3356572": {
          "model_module": "@jupyter-widgets/controls",
          "model_name": "HBoxModel",
          "state": {
            "_view_name": "HBoxView",
            "_dom_classes": [],
            "_model_name": "HBoxModel",
            "_view_module": "@jupyter-widgets/controls",
            "_model_module_version": "1.5.0",
            "_view_count": null,
            "_view_module_version": "1.5.0",
            "box_style": "",
            "layout": "IPY_MODEL_62b991b3b3fc49f1be58aad12f0cfc70",
            "_model_module": "@jupyter-widgets/controls",
            "children": [
              "IPY_MODEL_63c89f129e4143378e7336820fc31fb4",
              "IPY_MODEL_1f784651922d4fb497c3946e5b02c83f"
            ]
          }
        },
        "62b991b3b3fc49f1be58aad12f0cfc70": {
          "model_module": "@jupyter-widgets/base",
          "model_name": "LayoutModel",
          "state": {
            "_view_name": "LayoutView",
            "grid_template_rows": null,
            "right": null,
            "justify_content": null,
            "_view_module": "@jupyter-widgets/base",
            "overflow": null,
            "_model_module_version": "1.2.0",
            "_view_count": null,
            "flex_flow": null,
            "width": null,
            "min_width": null,
            "border": null,
            "align_items": null,
            "bottom": null,
            "_model_module": "@jupyter-widgets/base",
            "top": null,
            "grid_column": null,
            "overflow_y": null,
            "overflow_x": null,
            "grid_auto_flow": null,
            "grid_area": null,
            "grid_template_columns": null,
            "flex": null,
            "_model_name": "LayoutModel",
            "justify_items": null,
            "grid_row": null,
            "max_height": null,
            "align_content": null,
            "visibility": null,
            "align_self": null,
            "height": null,
            "min_height": null,
            "padding": null,
            "grid_auto_rows": null,
            "grid_gap": null,
            "max_width": null,
            "order": null,
            "_view_module_version": "1.2.0",
            "grid_template_areas": null,
            "object_position": null,
            "object_fit": null,
            "grid_auto_columns": null,
            "margin": null,
            "display": null,
            "left": null
          }
        },
        "63c89f129e4143378e7336820fc31fb4": {
          "model_module": "@jupyter-widgets/controls",
          "model_name": "FloatProgressModel",
          "state": {
            "_view_name": "ProgressView",
            "style": "IPY_MODEL_5a688524c25d4793a00940dc5042a18a",
            "_dom_classes": [],
            "description": "",
            "_model_name": "FloatProgressModel",
            "bar_style": "success",
            "max": 1,
            "_view_module": "@jupyter-widgets/controls",
            "_model_module_version": "1.5.0",
            "value": 1,
            "_view_count": null,
            "_view_module_version": "1.5.0",
            "orientation": "horizontal",
            "min": 0,
            "description_tooltip": null,
            "_model_module": "@jupyter-widgets/controls",
            "layout": "IPY_MODEL_65262d4506424d188d1b72e17e4d4eab"
          }
        },
        "1f784651922d4fb497c3946e5b02c83f": {
          "model_module": "@jupyter-widgets/controls",
          "model_name": "HTMLModel",
          "state": {
            "_view_name": "HTMLView",
            "style": "IPY_MODEL_00c4949796e9455da2bd68e318e70f1b",
            "_dom_classes": [],
            "description": "",
            "_model_name": "HTMLModel",
            "placeholder": "​",
            "_view_module": "@jupyter-widgets/controls",
            "_model_module_version": "1.5.0",
            "value": " 8192/? [00:00&lt;00:00, 16180.33it/s]",
            "_view_count": null,
            "_view_module_version": "1.5.0",
            "description_tooltip": null,
            "_model_module": "@jupyter-widgets/controls",
            "layout": "IPY_MODEL_a8a529b3e3954c36be22528961359b0c"
          }
        },
        "5a688524c25d4793a00940dc5042a18a": {
          "model_module": "@jupyter-widgets/controls",
          "model_name": "ProgressStyleModel",
          "state": {
            "_view_name": "StyleView",
            "_model_name": "ProgressStyleModel",
            "description_width": "initial",
            "_view_module": "@jupyter-widgets/base",
            "_model_module_version": "1.5.0",
            "_view_count": null,
            "_view_module_version": "1.2.0",
            "bar_color": null,
            "_model_module": "@jupyter-widgets/controls"
          }
        },
        "65262d4506424d188d1b72e17e4d4eab": {
          "model_module": "@jupyter-widgets/base",
          "model_name": "LayoutModel",
          "state": {
            "_view_name": "LayoutView",
            "grid_template_rows": null,
            "right": null,
            "justify_content": null,
            "_view_module": "@jupyter-widgets/base",
            "overflow": null,
            "_model_module_version": "1.2.0",
            "_view_count": null,
            "flex_flow": null,
            "width": null,
            "min_width": null,
            "border": null,
            "align_items": null,
            "bottom": null,
            "_model_module": "@jupyter-widgets/base",
            "top": null,
            "grid_column": null,
            "overflow_y": null,
            "overflow_x": null,
            "grid_auto_flow": null,
            "grid_area": null,
            "grid_template_columns": null,
            "flex": null,
            "_model_name": "LayoutModel",
            "justify_items": null,
            "grid_row": null,
            "max_height": null,
            "align_content": null,
            "visibility": null,
            "align_self": null,
            "height": null,
            "min_height": null,
            "padding": null,
            "grid_auto_rows": null,
            "grid_gap": null,
            "max_width": null,
            "order": null,
            "_view_module_version": "1.2.0",
            "grid_template_areas": null,
            "object_position": null,
            "object_fit": null,
            "grid_auto_columns": null,
            "margin": null,
            "display": null,
            "left": null
          }
        },
        "00c4949796e9455da2bd68e318e70f1b": {
          "model_module": "@jupyter-widgets/controls",
          "model_name": "DescriptionStyleModel",
          "state": {
            "_view_name": "StyleView",
            "_model_name": "DescriptionStyleModel",
            "description_width": "",
            "_view_module": "@jupyter-widgets/base",
            "_model_module_version": "1.5.0",
            "_view_count": null,
            "_view_module_version": "1.2.0",
            "_model_module": "@jupyter-widgets/controls"
          }
        },
        "a8a529b3e3954c36be22528961359b0c": {
          "model_module": "@jupyter-widgets/base",
          "model_name": "LayoutModel",
          "state": {
            "_view_name": "LayoutView",
            "grid_template_rows": null,
            "right": null,
            "justify_content": null,
            "_view_module": "@jupyter-widgets/base",
            "overflow": null,
            "_model_module_version": "1.2.0",
            "_view_count": null,
            "flex_flow": null,
            "width": null,
            "min_width": null,
            "border": null,
            "align_items": null,
            "bottom": null,
            "_model_module": "@jupyter-widgets/base",
            "top": null,
            "grid_column": null,
            "overflow_y": null,
            "overflow_x": null,
            "grid_auto_flow": null,
            "grid_area": null,
            "grid_template_columns": null,
            "flex": null,
            "_model_name": "LayoutModel",
            "justify_items": null,
            "grid_row": null,
            "max_height": null,
            "align_content": null,
            "visibility": null,
            "align_self": null,
            "height": null,
            "min_height": null,
            "padding": null,
            "grid_auto_rows": null,
            "grid_gap": null,
            "max_width": null,
            "order": null,
            "_view_module_version": "1.2.0",
            "grid_template_areas": null,
            "object_position": null,
            "object_fit": null,
            "grid_auto_columns": null,
            "margin": null,
            "display": null,
            "left": null
          }
        }
      }
    }
  },
  "cells": [
    {
      "cell_type": "code",
      "metadata": {
        "id": "85_HkTjcNZeg"
      },
      "source": [
        "import torch\n",
        "import random\n",
        "import numpy as np\n",
        "\n",
        "random.seed(0)\n",
        "np.random.seed(0)\n",
        "torch.manual_seed(0)\n",
        "torch.cuda.manual_seed(0)\n",
        "torch.backends.cudnn.deterministic = True"
      ],
      "execution_count": 1,
      "outputs": []
    },
    {
      "cell_type": "code",
      "metadata": {
        "id": "kjPVw9UfNZel"
      },
      "source": [
        "import torchvision.datasets"
      ],
      "execution_count": 2,
      "outputs": []
    },
    {
      "cell_type": "code",
      "metadata": {
        "id": "buWKcUqGNZeo",
        "outputId": "225791bd-94a7-477b-cbd3-7185a9a1f83f",
        "colab": {
          "base_uri": "https://localhost:8080/",
          "height": 366,
          "referenced_widgets": [
            "c66b3abecdde4d10bf79a51f68a23772",
            "9bdbfe1d03f545bd87a97c4bba603abe",
            "8f445aa586c44fbf9bcb10e6f28d8561",
            "8b7229fe073c4a4dac925080b012a222",
            "17b26f3d4ed544d39df8763e50e40b3f",
            "8903a69db7dd4737b995452621223ea8",
            "81ae769dcd9b419cb8d7c499fbba1bb6",
            "2122b872bc39431eab3dfd6cdaf62680",
            "2faa2f25ac7943cb99769f6233af2ca9",
            "e55bdecffb6645ebadeba1f8a93f73cd",
            "9f6419f4758a4b34b77d73447593d96f",
            "935d8891cab349c785ff0ccc0c2ab924",
            "68c3df6767534ddcaa6f89a5faef58f5",
            "881189686eed4507b9d2f1ee618d9419",
            "7cfb3573111c43a38a60165560437676",
            "e3fe205c982547158b3a3a854baa48bd",
            "d5d1316ab509470f8d2aa69c7bf94bd6",
            "c7440cccf2de4782affbae7334a6140b",
            "df4431bc7f7a451bb61700b044bcb9ee",
            "605b80dd1c0e443bb652b918a72f5817",
            "407e21b5e0974d299e5adc54885f82f1",
            "719c26bc429f4fde94ceae261b90ec5f",
            "6e8a22dc8e204e2bae47197f2bcd2aa9",
            "def83c9a92dd46bda8e3cdcf948f6e6a",
            "f61413c927644e9c9987bfecd3356572",
            "62b991b3b3fc49f1be58aad12f0cfc70",
            "63c89f129e4143378e7336820fc31fb4",
            "1f784651922d4fb497c3946e5b02c83f",
            "5a688524c25d4793a00940dc5042a18a",
            "65262d4506424d188d1b72e17e4d4eab",
            "00c4949796e9455da2bd68e318e70f1b",
            "a8a529b3e3954c36be22528961359b0c"
          ]
        }
      },
      "source": [
        "MNIST_train = torchvision.datasets.MNIST('./', download=True, train=True)\n",
        "MNIST_test = torchvision.datasets.MNIST('./', download=True, train=False)\n"
      ],
      "execution_count": 3,
      "outputs": [
        {
          "output_type": "stream",
          "text": [
            "Downloading http://yann.lecun.com/exdb/mnist/train-images-idx3-ubyte.gz to ./MNIST/raw/train-images-idx3-ubyte.gz\n"
          ],
          "name": "stdout"
        },
        {
          "output_type": "display_data",
          "data": {
            "application/vnd.jupyter.widget-view+json": {
              "model_id": "c66b3abecdde4d10bf79a51f68a23772",
              "version_minor": 0,
              "version_major": 2
            },
            "text/plain": [
              "HBox(children=(FloatProgress(value=1.0, bar_style='info', max=1.0), HTML(value='')))"
            ]
          },
          "metadata": {
            "tags": []
          }
        },
        {
          "output_type": "stream",
          "text": [
            "Extracting ./MNIST/raw/train-images-idx3-ubyte.gz to ./MNIST/raw\n",
            "Downloading http://yann.lecun.com/exdb/mnist/train-labels-idx1-ubyte.gz to ./MNIST/raw/train-labels-idx1-ubyte.gz\n"
          ],
          "name": "stdout"
        },
        {
          "output_type": "display_data",
          "data": {
            "application/vnd.jupyter.widget-view+json": {
              "model_id": "2faa2f25ac7943cb99769f6233af2ca9",
              "version_minor": 0,
              "version_major": 2
            },
            "text/plain": [
              "HBox(children=(FloatProgress(value=1.0, bar_style='info', max=1.0), HTML(value='')))"
            ]
          },
          "metadata": {
            "tags": []
          }
        },
        {
          "output_type": "stream",
          "text": [
            "Extracting ./MNIST/raw/train-labels-idx1-ubyte.gz to ./MNIST/raw\n",
            "Downloading http://yann.lecun.com/exdb/mnist/t10k-images-idx3-ubyte.gz to ./MNIST/raw/t10k-images-idx3-ubyte.gz\n"
          ],
          "name": "stdout"
        },
        {
          "output_type": "display_data",
          "data": {
            "application/vnd.jupyter.widget-view+json": {
              "model_id": "d5d1316ab509470f8d2aa69c7bf94bd6",
              "version_minor": 0,
              "version_major": 2
            },
            "text/plain": [
              "HBox(children=(FloatProgress(value=1.0, bar_style='info', max=1.0), HTML(value='')))"
            ]
          },
          "metadata": {
            "tags": []
          }
        },
        {
          "output_type": "stream",
          "text": [
            "Extracting ./MNIST/raw/t10k-images-idx3-ubyte.gz to ./MNIST/raw\n",
            "Downloading http://yann.lecun.com/exdb/mnist/t10k-labels-idx1-ubyte.gz to ./MNIST/raw/t10k-labels-idx1-ubyte.gz\n"
          ],
          "name": "stdout"
        },
        {
          "output_type": "display_data",
          "data": {
            "application/vnd.jupyter.widget-view+json": {
              "model_id": "f61413c927644e9c9987bfecd3356572",
              "version_minor": 0,
              "version_major": 2
            },
            "text/plain": [
              "HBox(children=(FloatProgress(value=1.0, bar_style='info', max=1.0), HTML(value='')))"
            ]
          },
          "metadata": {
            "tags": []
          }
        },
        {
          "output_type": "stream",
          "text": [
            "Extracting ./MNIST/raw/t10k-labels-idx1-ubyte.gz to ./MNIST/raw\n",
            "Processing...\n",
            "Done!\n"
          ],
          "name": "stdout"
        },
        {
          "output_type": "stream",
          "text": [
            "/usr/local/lib/python3.6/dist-packages/torchvision/datasets/mnist.py:469: UserWarning: The given NumPy array is not writeable, and PyTorch does not support non-writeable tensors. This means you can write to the underlying (supposedly non-writeable) NumPy array using the tensor. You may want to copy the array to protect its data or make it writeable before converting it to a tensor. This type of warning will be suppressed for the rest of this program. (Triggered internally at  /pytorch/torch/csrc/utils/tensor_numpy.cpp:141.)\n",
            "  return torch.from_numpy(parsed.astype(m[2], copy=False)).view(*s)\n"
          ],
          "name": "stderr"
        }
      ]
    },
    {
      "cell_type": "code",
      "metadata": {
        "id": "e-uQzohvFox7",
        "outputId": "4fb86a2b-a740-4d9f-f352-61291a48ad55",
        "colab": {
          "base_uri": "https://localhost:8080/",
          "height": 34
        }
      },
      "source": [
        "MNIST_train.targets.shape"
      ],
      "execution_count": 4,
      "outputs": [
        {
          "output_type": "execute_result",
          "data": {
            "text/plain": [
              "torch.Size([60000])"
            ]
          },
          "metadata": {
            "tags": []
          },
          "execution_count": 4
        }
      ]
    },
    {
      "cell_type": "code",
      "metadata": {
        "id": "umtSiSP_FNNM",
        "outputId": "82c82a2c-b582-4b3b-8b8b-abdbdb095b37",
        "colab": {
          "base_uri": "https://localhost:8080/",
          "height": 34
        }
      },
      "source": [
        "MNIST_train.data.shape #в трейне 60к изображений 28х28"
      ],
      "execution_count": 5,
      "outputs": [
        {
          "output_type": "execute_result",
          "data": {
            "text/plain": [
              "torch.Size([60000, 28, 28])"
            ]
          },
          "metadata": {
            "tags": []
          },
          "execution_count": 5
        }
      ]
    },
    {
      "cell_type": "code",
      "metadata": {
        "id": "_kesnEl-F19E",
        "outputId": "0c802c59-98b9-432e-9b45-ba2f42e76575",
        "colab": {
          "base_uri": "https://localhost:8080/",
          "height": 34
        }
      },
      "source": [
        "MNIST_test.data.shape # в тесте 10к изображений 28х28"
      ],
      "execution_count": 6,
      "outputs": [
        {
          "output_type": "execute_result",
          "data": {
            "text/plain": [
              "torch.Size([10000, 28, 28])"
            ]
          },
          "metadata": {
            "tags": []
          },
          "execution_count": 6
        }
      ]
    },
    {
      "cell_type": "code",
      "metadata": {
        "id": "nyrpGOtPNZeq"
      },
      "source": [
        "X_train = MNIST_train.data\n",
        "y_train = MNIST_train.targets\n",
        "X_test = MNIST_test.data\n",
        "y_test = MNIST_test.targets"
      ],
      "execution_count": 7,
      "outputs": []
    },
    {
      "cell_type": "code",
      "metadata": {
        "id": "Zd-E4vIpNZe1",
        "outputId": "009a6592-130b-4d7e-cfbd-8b65aea4fd44",
        "colab": {
          "base_uri": "https://localhost:8080/",
          "height": 349
        }
      },
      "source": [
        "import matplotlib.pyplot as plt\n",
        "plt.imshow(X_train[10, :, :], cmap='binary', interpolation='bicubic')\n",
        "plt.show()\n",
        "print(y_train[10])"
      ],
      "execution_count": 8,
      "outputs": [
        {
          "output_type": "stream",
          "text": [
            "\n",
            "\n",
            "\n",
            "\n"
          ],
          "name": "stdout"
        },
        {
          "output_type": "display_data",
          "data": {
            "image/png": "[encoded data removed]",
            "text/plain": [
              "<Figure size 432x288 with 1 Axes>"
            ]
          },
          "metadata": {
            "tags": [],
            "needs_background": "light"
          }
        },
        {
          "output_type": "stream",
          "text": [
            "tensor(3)\n"
          ],
          "name": "stdout"
        }
      ]
    },
    {
      "cell_type": "code",
      "metadata": {
        "id": "Tf9LiDGuNZe6"
      },
      "source": [
        "X_train = X_train.unsqueeze(1).float() #добавляем измерение канала изображения (в нашем случае =1, т.к. черно-белое изображение)\n",
        "X_test = X_test.unsqueeze(1).float()"
      ],
      "execution_count": 9,
      "outputs": []
    },
    {
      "cell_type": "code",
      "metadata": {
        "id": "kxKAhEYHNZe-",
        "outputId": "4068b4ea-6d4c-4c2d-d176-3e79984582b3",
        "colab": {
          "base_uri": "https://localhost:8080/",
          "height": 34
        }
      },
      "source": [
        "X_train[0].shape"
      ],
      "execution_count": 10,
      "outputs": [
        {
          "output_type": "execute_result",
          "data": {
            "text/plain": [
              "torch.Size([1, 28, 28])"
            ]
          },
          "metadata": {
            "tags": []
          },
          "execution_count": 10
        }
      ]
    },
    {
      "cell_type": "code",
      "metadata": {
        "id": "LblzfwXtJjUI"
      },
      "source": [
        "from torch import nn\n",
        "from torch.functional import F"
      ],
      "execution_count": 11,
      "outputs": []
    },
    {
      "cell_type": "code",
      "metadata": {
        "id": "aeWwcD8nHdAU"
      },
      "source": [
        "class LeNet2(nn.Module):\n",
        "  def __init__(self, \n",
        "               activation = 'tanh', \n",
        "               pooling = 'avg',\n",
        "               conv_size=5,\n",
        "               batch_norm=False):\n",
        "    super(LeNet2, self).__init__()\n",
        "\n",
        "    self.activation = activation\n",
        "    self.pooling = pooling\n",
        "    self.conv_size = conv_size\n",
        "    self.batch_norm = batch_norm\n",
        "\n",
        "    if activation == 'tanh':\n",
        "      act_f = nn.Tanh()\n",
        "    elif activation == 'relu':\n",
        "      act_f = nn.ReLU()\n",
        "    else:\n",
        "      raise NotImplementedError\n",
        "\n",
        "    if pooling == 'avg':\n",
        "      pool_layer = nn.AvgPool2d(kernel_size=2, stride=2)\n",
        "    elif pooling =='max':\n",
        "      pool_layer = nn.MaxPool2d(kernel_size=2, stride=2)\n",
        "    else:\n",
        "      raise NotImplementedError\n",
        "\n",
        "    #input = (размер батча,1,28,28)\n",
        "    if conv_size == 5:\n",
        "      self.conv1 = nn.Conv2d(in_channels=1, out_channels=6, kernel_size=5, padding=2) \n",
        "      #(размер батча,6,28,28)\n",
        "    elif conv_size==3:\n",
        "      self.conv1_1 = nn.Conv2d(in_channels=1, out_channels=6, kernel_size=3, padding=1)\n",
        "      self.conv1_2 = nn.Conv2d(in_channels=6, out_channels=6, kernel_size=3, padding=1)\n",
        "    else:\n",
        "      raise NotImplementedError\n",
        "\n",
        "    self.act1 = act_f\n",
        "    self.bn1 = nn.BatchNorm2d(num_features=6)\n",
        "    self.pool1 = pool_layer\n",
        "    \n",
        "    #(размер батча,6,14,14)\n",
        "    if conv_size == 5:\n",
        "      self.conv2= nn.Conv2d(in_channels=6, out_channels=16, kernel_size=5, padding=0)\n",
        "    elif conv_size==3:\n",
        "      self.conv2_1 = nn.Conv2d(in_channels=6, out_channels=16, kernel_size=3, padding=0)\n",
        "      self.conv2_2 = nn.Conv2d(in_channels=16, out_channels=16, kernel_size=3, padding=0)\n",
        "    else:\n",
        "      raise NotImplementedError\n",
        "    #(размер батча,16,10,10)\n",
        "\n",
        "    self.act2 = act_f\n",
        "    self.bn2 = nn.BatchNorm2d(num_features=16)\n",
        "    self.pool2 = pool_layer\n",
        "    #(размер батча,16,5,5)\n",
        "\n",
        "\n",
        "    # #(размер батча,120,1,1)\n",
        "    self.fc1 = nn.Linear(in_features=16*5*5, out_features=120, bias=True)\n",
        "    self.act3 = act_f\n",
        "    self.fc2 = nn.Linear(in_features=120, out_features=84, bias=True)\n",
        "    self.act4=act_f\n",
        "    #(размер батча,84)\n",
        "    self.fc3 = nn.Linear(in_features=84, out_features=10)\n",
        "\n",
        "  def forward(self, x):\n",
        "    if self.conv_size==5:\n",
        "      x = self.conv1(x)\n",
        "    elif self.conv_size==3:\n",
        "      x = self.conv1_2(self.conv1_1(x))\n",
        "    x = self.act1(x) \n",
        "    if self.batch_norm:\n",
        "      x = self.bn1(x)\n",
        "    x = self.pool1(x)\n",
        "    \n",
        "    if self.conv_size==5:\n",
        "      x = self.conv2(x)\n",
        "    elif self.conv_size==3:\n",
        "      x = self.conv2_2(self.conv2_1(x))\n",
        "    x = self.act2(x) \n",
        "    if self.batch_norm:\n",
        "      x = self.bn2(x)\n",
        "    x = self.pool2(x)\n",
        "\n",
        "    x = x.view(x.size(0), x.size(1)*x.size(2)*x.size(3))\n",
        "    x = self.fc1(x)\n",
        "    x = self.act3(x)\n",
        "    x = self.fc2(x)\n",
        "    x = self.act4(x)\n",
        "\n",
        "    return self.fc3(x)\n"
      ],
      "execution_count": 17,
      "outputs": []
    },
    {
      "cell_type": "code",
      "metadata": {
        "id": "EcF_KSiGSYbw",
        "outputId": "9812bd54-9e7a-4329-e1cd-3e05e1634021",
        "colab": {
          "base_uri": "https://localhost:8080/",
          "height": 50
        }
      },
      "source": [
        "LeNet2().forward(X_train[:20])[0] #результат работы для одной картинки"
      ],
      "execution_count": 18,
      "outputs": [
        {
          "output_type": "execute_result",
          "data": {
            "text/plain": [
              "tensor([-0.0537, -0.0498, -0.0807,  0.0489, -0.1405,  0.1165,  0.1854, -0.1488,\n",
              "        -0.0374, -0.1155], grad_fn=<SelectBackward>)"
            ]
          },
          "metadata": {
            "tags": []
          },
          "execution_count": 18
        }
      ]
    },
    {
      "cell_type": "code",
      "metadata": {
        "id": "Xv072QiuHd8s"
      },
      "source": [
        "def train_nn(net, dataloader, X_test, y_test, epochs=100):\n",
        "  device = torch.device('cuda:0' if torch.cuda.is_available() else 'cpu')\n",
        "  net = net.to(device)\n",
        "  criterion = nn.CrossEntropyLoss()\n",
        "  optimizer = torch.optim.Adam(params=net.parameters())\n",
        "\n",
        "  X_test = X_test.to(device)\n",
        "  y_test = y_test.to(device)\n",
        "\n",
        "  test_loss = []\n",
        "  test_accuracy = []\n",
        "\n",
        "  for epoch in range(epochs):\n",
        "    for train_batch, train_label in dataloader:\n",
        "      optimizer.zero_grad()\n",
        "      net.train()\n",
        "      train_batch, train_label = train_batch.to(device), train_label.to(device)\n",
        "\n",
        "      preds = net.forward(train_batch)\n",
        "      loss = criterion(preds, train_label)\n",
        "      loss.backward()\n",
        "      optimizer.step()\n",
        "\n",
        "    net.eval()\n",
        "    test_preds = net.forward(X_test)\n",
        "    t_loss = criterion(test_preds, y_test)\n",
        "    t_accuracy = (test_preds.argmax(dim=1) == y_test).float().mean()\n",
        "\n",
        "    test_loss.append(t_loss.data.cpu())\n",
        "    test_accuracy.append(t_accuracy.data.cpu())\n",
        "\n",
        "    if epoch % 5 ==0:\n",
        "      print(f'Epoch: {epoch}, accuracy: {t_accuracy}')\n",
        "      print('***')\n",
        "\n",
        "  return test_loss, test_accuracy\n",
        "\n",
        "\n",
        "\n"
      ],
      "execution_count": 32,
      "outputs": []
    },
    {
      "cell_type": "code",
      "metadata": {
        "id": "11QiRubyQgfG"
      },
      "source": [
        "partition = {'train':[]}\n",
        "labels = {}\n",
        "\n",
        "for idx, p in enumerate(X_train):\n",
        "\n",
        "  partition['train'].append(idx)\n",
        "  labels[idx] = y_train[idx]\n",
        "\n",
        "class MyDataset(torch.utils.data.Dataset):\n",
        "  def __init__(self, list_IDs, labels):\n",
        "    self.list_IDs = list_IDs\n",
        "    self.labels = labels\n",
        "\n",
        "  def __len__(self):\n",
        "    return len(self.list_IDs)\n",
        "\n",
        "  def __getitem__(self, idx):\n",
        "    ID = self.list_IDs[idx]\n",
        "    \n",
        "    X = X_train[ID] #загружаем данные - в другом варианте мы могли бы загружать их с диска\n",
        "    y = self.labels[ID]\n",
        "    \n",
        "    return X, y\n",
        "\n",
        "\n",
        "params = {'batch_size':100,\n",
        "          'shuffle':True, \n",
        "          'num_workers':4}\n",
        "\n",
        "train_iter = torch.utils.data.DataLoader(MyDataset(partition['train'], labels), **params)\n",
        "# valid_iter = torch.utils.data.DataLoader(MyDataset(partition['valid'], labels), **params)\n"
      ],
      "execution_count": 33,
      "outputs": []
    },
    {
      "cell_type": "code",
      "metadata": {
        "id": "Em9bM8IpZ9YC",
        "outputId": "e316be7d-489a-4682-c8da-4f0779f62aa2",
        "colab": {
          "base_uri": "https://localhost:8080/",
          "height": 50
        }
      },
      "source": [
        "#одна выгрузка даталоадера\n",
        "print(next(iter(train_iter))[0].shape) # (размер батча, кол-во каналов, ширина, высота)\n",
        "print(next(iter(train_iter))[1].shape) # метки таргета по размеру батча"
      ],
      "execution_count": null,
      "outputs": [
        {
          "output_type": "stream",
          "text": [
            "torch.Size([100, 1, 28, 28])\n",
            "torch.Size([100])\n"
          ],
          "name": "stdout"
        }
      ]
    },
    {
      "cell_type": "code",
      "metadata": {
        "id": "6OVZdlWPQg0X",
        "outputId": "c3a9aa36-c141-4250-d92a-696ab651419f",
        "colab": {
          "base_uri": "https://localhost:8080/",
          "height": 1000
        }
      },
      "source": [
        "%%time\n",
        "import warnings\n",
        "warnings.filterwarnings('ignore')\n",
        "\n",
        "\n",
        "accuracies = {}\n",
        "losses = {}\n",
        "\n",
        "accuracies['tanh'], losses['tanh'] = \\\n",
        "    train_nn(LeNet2(activation='tanh', conv_size=5),\n",
        "          train_iter, X_test, y_test)\n",
        "\n",
        "accuracies['relu'], losses['relu'] = \\\n",
        "    train_nn(LeNet2(activation='relu', conv_size=5),\n",
        "          train_iter, X_test, y_test)\n",
        "\n",
        "accuracies['relu_3'], losses['relu_3'] = \\\n",
        "    train_nn(LeNet2(activation='relu', conv_size=3),\n",
        "         train_iter, X_test, y_test)\n",
        "\n",
        "accuracies['relu_3_max_pool'], losses['relu_3_max_pool'] = \\\n",
        "    train_nn(LeNet2(activation='relu', conv_size=3, pooling='max'), \n",
        "          train_iter, X_test, y_test)\n",
        "\n",
        "accuracies['relu_3_max_pool_bn'], losses['relu_3_max_pool_bn'] = \\\n",
        "    train_nn(LeNet2(activation='relu', conv_size=3, pooling='max', batch_norm=True), \n",
        "          train_iter, X_test, y_test)"
      ],
      "execution_count": 34,
      "outputs": [
        {
          "output_type": "stream",
          "text": [
            "Epoch: 0, accuracy: 0.9767999649047852\n",
            "***\n",
            "Epoch: 5, accuracy: 0.988599956035614\n",
            "***\n",
            "Epoch: 10, accuracy: 0.9886999726295471\n",
            "***\n",
            "Epoch: 15, accuracy: 0.988099992275238\n",
            "***\n",
            "Epoch: 20, accuracy: 0.9882999658584595\n",
            "***\n",
            "Epoch: 25, accuracy: 0.9896999597549438\n",
            "***\n",
            "Epoch: 30, accuracy: 0.9884999990463257\n",
            "***\n",
            "Epoch: 35, accuracy: 0.988099992275238\n",
            "***\n",
            "Epoch: 40, accuracy: 0.9871999621391296\n",
            "***\n",
            "Epoch: 45, accuracy: 0.9892999529838562\n",
            "***\n",
            "Epoch: 50, accuracy: 0.9881999492645264\n",
            "***\n",
            "Epoch: 55, accuracy: 0.9874999523162842\n",
            "***\n",
            "Epoch: 60, accuracy: 0.9869999885559082\n",
            "***\n",
            "Epoch: 65, accuracy: 0.9888999462127686\n",
            "***\n",
            "Epoch: 70, accuracy: 0.9878999590873718\n",
            "***\n",
            "Epoch: 75, accuracy: 0.9878000020980835\n",
            "***\n",
            "Epoch: 80, accuracy: 0.9881999492645264\n",
            "***\n",
            "Epoch: 85, accuracy: 0.9870999455451965\n",
            "***\n",
            "Epoch: 90, accuracy: 0.988099992275238\n",
            "***\n",
            "Epoch: 95, accuracy: 0.9896000027656555\n",
            "***\n",
            "Epoch: 0, accuracy: 0.9800999760627747\n",
            "***\n",
            "Epoch: 5, accuracy: 0.9893999695777893\n",
            "***\n",
            "Epoch: 10, accuracy: 0.9882999658584595\n",
            "***\n",
            "Epoch: 15, accuracy: 0.9900999665260315\n",
            "***\n",
            "Epoch: 20, accuracy: 0.9900999665260315\n",
            "***\n",
            "Epoch: 25, accuracy: 0.989799976348877\n",
            "***\n",
            "Epoch: 30, accuracy: 0.990399956703186\n",
            "***\n",
            "Epoch: 35, accuracy: 0.9892999529838562\n",
            "***\n",
            "Epoch: 40, accuracy: 0.991599977016449\n",
            "***\n",
            "Epoch: 45, accuracy: 0.9902999997138977\n",
            "***\n",
            "Epoch: 50, accuracy: 0.9888999462127686\n",
            "***\n",
            "Epoch: 55, accuracy: 0.9881999492645264\n",
            "***\n",
            "Epoch: 60, accuracy: 0.9899999499320984\n",
            "***\n",
            "Epoch: 65, accuracy: 0.9917999505996704\n",
            "***\n",
            "Epoch: 70, accuracy: 0.9916999936103821\n",
            "***\n",
            "Epoch: 75, accuracy: 0.9918999671936035\n",
            "***\n",
            "Epoch: 80, accuracy: 0.9916999936103821\n",
            "***\n",
            "Epoch: 85, accuracy: 0.9919999837875366\n",
            "***\n",
            "Epoch: 90, accuracy: 0.9921000003814697\n",
            "***\n",
            "Epoch: 95, accuracy: 0.9919999837875366\n",
            "***\n",
            "Epoch: 0, accuracy: 0.9836999773979187\n",
            "***\n",
            "Epoch: 5, accuracy: 0.9910999536514282\n",
            "***\n",
            "Epoch: 10, accuracy: 0.9912999868392944\n",
            "***\n",
            "Epoch: 15, accuracy: 0.9914999604225159\n",
            "***\n",
            "Epoch: 20, accuracy: 0.993399977684021\n",
            "***\n",
            "Epoch: 25, accuracy: 0.9912999868392944\n",
            "***\n",
            "Epoch: 30, accuracy: 0.9924999475479126\n",
            "***\n",
            "Epoch: 35, accuracy: 0.9910999536514282\n",
            "***\n",
            "Epoch: 40, accuracy: 0.9894999861717224\n",
            "***\n",
            "Epoch: 45, accuracy: 0.9911999702453613\n",
            "***\n",
            "Epoch: 50, accuracy: 0.9888999462127686\n",
            "***\n",
            "Epoch: 55, accuracy: 0.9912999868392944\n",
            "***\n",
            "Epoch: 60, accuracy: 0.9911999702453613\n",
            "***\n",
            "Epoch: 65, accuracy: 0.9914000034332275\n",
            "***\n",
            "Epoch: 70, accuracy: 0.9899999499320984\n",
            "***\n",
            "Epoch: 75, accuracy: 0.9911999702453613\n",
            "***\n",
            "Epoch: 80, accuracy: 0.9907999634742737\n",
            "***\n",
            "Epoch: 85, accuracy: 0.9921000003814697\n",
            "***\n",
            "Epoch: 90, accuracy: 0.9909999966621399\n",
            "***\n",
            "Epoch: 95, accuracy: 0.9917999505996704\n",
            "***\n",
            "Epoch: 0, accuracy: 0.9753999710083008\n",
            "***\n",
            "Epoch: 5, accuracy: 0.988099992275238\n",
            "***\n",
            "Epoch: 10, accuracy: 0.9902999997138977\n",
            "***\n",
            "Epoch: 15, accuracy: 0.9858999848365784\n",
            "***\n",
            "Epoch: 20, accuracy: 0.9878000020980835\n",
            "***\n",
            "Epoch: 25, accuracy: 0.989799976348877\n",
            "***\n",
            "Epoch: 30, accuracy: 0.9870999455451965\n",
            "***\n",
            "Epoch: 35, accuracy: 0.9868999719619751\n",
            "***\n",
            "Epoch: 40, accuracy: 0.9800999760627747\n",
            "***\n",
            "Epoch: 45, accuracy: 0.9879999756813049\n",
            "***\n",
            "Epoch: 50, accuracy: 0.9870999455451965\n",
            "***\n",
            "Epoch: 55, accuracy: 0.9874999523162842\n",
            "***\n",
            "Epoch: 60, accuracy: 0.9886999726295471\n",
            "***\n",
            "Epoch: 65, accuracy: 0.9870999455451965\n",
            "***\n",
            "Epoch: 70, accuracy: 0.9908999800682068\n",
            "***\n",
            "Epoch: 75, accuracy: 0.9899999499320984\n",
            "***\n",
            "Epoch: 80, accuracy: 0.986799955368042\n",
            "***\n",
            "Epoch: 85, accuracy: 0.9899999499320984\n",
            "***\n",
            "Epoch: 90, accuracy: 0.9875999689102173\n",
            "***\n",
            "Epoch: 95, accuracy: 0.9869999885559082\n",
            "***\n",
            "Epoch: 0, accuracy: 0.9847999811172485\n",
            "***\n",
            "Epoch: 5, accuracy: 0.990399956703186\n",
            "***\n",
            "Epoch: 10, accuracy: 0.9912999868392944\n",
            "***\n",
            "Epoch: 15, accuracy: 0.9900999665260315\n",
            "***\n",
            "Epoch: 20, accuracy: 0.9898999929428101\n",
            "***\n",
            "Epoch: 25, accuracy: 0.9907999634742737\n",
            "***\n",
            "Epoch: 30, accuracy: 0.9896999597549438\n",
            "***\n",
            "Epoch: 35, accuracy: 0.9924999475479126\n",
            "***\n",
            "Epoch: 40, accuracy: 0.9925999641418457\n",
            "***\n",
            "Epoch: 45, accuracy: 0.9930999875068665\n",
            "***\n",
            "Epoch: 50, accuracy: 0.9900999665260315\n",
            "***\n",
            "Epoch: 55, accuracy: 0.993399977684021\n",
            "***\n",
            "Epoch: 60, accuracy: 0.9910999536514282\n",
            "***\n",
            "Epoch: 65, accuracy: 0.9914000034332275\n",
            "***\n",
            "Epoch: 70, accuracy: 0.9917999505996704\n",
            "***\n",
            "Epoch: 75, accuracy: 0.9921000003814697\n",
            "***\n",
            "Epoch: 80, accuracy: 0.9930999875068665\n",
            "***\n",
            "Epoch: 85, accuracy: 0.9924999475479126\n",
            "***\n",
            "Epoch: 90, accuracy: 0.9935999512672424\n",
            "***\n",
            "Epoch: 95, accuracy: 0.9926999807357788\n",
            "***\n",
            "CPU times: user 22min 23s, sys: 2min 34s, total: 24min 57s\n",
            "Wall time: 26min 53s\n"
          ],
          "name": "stdout"
        }
      ]
    },
    {
      "cell_type": "code",
      "metadata": {
        "id": "AdLAuyDbN73l",
        "outputId": "c312800f-15a4-41cd-86ae-b2b7b683f455",
        "colab": {
          "base_uri": "https://localhost:8080/",
          "height": 281
        }
      },
      "source": [
        "for experiment in accuracies.keys():\n",
        "  plt.plot(accuracies[experiment], label=experiment)\n",
        "plt.legend()\n",
        "plt.title('Test Loss')\n",
        "plt.show()"
      ],
      "execution_count": 37,
      "outputs": [
        {
          "output_type": "display_data",
          "data": {
            "image/png": "[encoded data removed]",
            "text/plain": [
              "<Figure size 432x288 with 1 Axes>"
            ]
          },
          "metadata": {
            "tags": [],
            "needs_background": "light"
          }
        }
      ]
    },
    {
      "cell_type": "code",
      "metadata": {
        "id": "4L1dsnYfQg8c",
        "outputId": "4727a585-6ccd-4f91-9209-f59ee088cd66",
        "colab": {
          "base_uri": "https://localhost:8080/",
          "height": 281
        }
      },
      "source": [
        "for experiment in losses.keys():\n",
        "  plt.plot(losses[experiment], label=experiment)\n",
        "plt.legend()\n",
        "plt.title('Test Accuracy')\n",
        "plt.show()"
      ],
      "execution_count": 38,
      "outputs": [
        {
          "output_type": "display_data",
          "data": {
            "image/png": "[encoded data removed]",
            "text/plain": [
              "<Figure size 432x288 with 1 Axes>"
            ]
          },
          "metadata": {
            "tags": [],
            "needs_background": "light"
          }
        }
      ]
    },
    {
      "cell_type": "code",
      "metadata": {
        "id": "59y6O1GnQg6M"
      },
      "source": [
        ""
      ],
      "execution_count": null,
      "outputs": []
    },
    {
      "cell_type": "code",
      "metadata": {
        "id": "a53j2htKQg36"
      },
      "source": [
        ""
      ],
      "execution_count": null,
      "outputs": []
    }
  ]
}